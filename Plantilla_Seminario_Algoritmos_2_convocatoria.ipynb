{
  "nbformat": 4,
  "nbformat_minor": 0,
  "metadata": {
    "colab": {
      "name": "Plantilla_Seminario_Algoritmos_2_convocatoria.ipynb",
      "provenance": [],
      "collapsed_sections": [],
      "include_colab_link": true
    },
    "kernelspec": {
      "display_name": "Python 3",
      "language": "python",
      "name": "python3"
    },
    "language_info": {
      "codemirror_mode": {
        "name": "ipython",
        "version": 3
      },
      "file_extension": ".py",
      "mimetype": "text/x-python",
      "name": "python",
      "nbconvert_exporter": "python",
      "pygments_lexer": "ipython3",
      "version": "3.7.3"
    }
  },
  "cells": [
    {
      "cell_type": "markdown",
      "metadata": {
        "id": "view-in-github",
        "colab_type": "text"
      },
      "source": [
        "<a href=\"https://colab.research.google.com/github/David-Sanchez-Perez/03MAIR---Algoritmos-de-optimizacion---2019/blob/master/Plantilla_Seminario_Algoritmos_2_convocatoria.ipynb\" target=\"_parent\"><img src=\"https://colab.research.google.com/assets/colab-badge.svg\" alt=\"Open In Colab\"/></a>"
      ]
    },
    {
      "cell_type": "markdown",
      "metadata": {
        "colab_type": "text",
        "id": "hVbXYX-RfPWh"
      },
      "source": [
        "# Algoritmos de optimización - Seminario<br>\n",
        "Nombre y Apellidos: David Sánchez Pérez  <br>\n",
        "Url: https://github.com/.../03MAIR---Algoritmos-de-Optimizacion---2019/tree/master/SEMINARIO<br>\n",
        "Problema: Organizar los horarios de los partidos de La Liga\n",
        "> 1. Elección de grupos de población homogéneos <br>\n",
        ">2. Organizar los horarios de partidos de La Liga<br>\n",
        ">3. Combinar cifras y operaciones\n",
        "\n",
        "Desde la La Liga de fútbol profesional se pretende organizar los horarios de los partidos\n",
        "de liga de cada jornada. Se conocen algunos datos que nos deben llevar a diseñar un\n",
        "algoritmo que realice la asignación de los partidos a los horarios de forma que maximice\n",
        "la audiencia.\n",
        "• Los horarios disponibles se conocen a priori y son los siguientes:\n",
        "\n",
        "Viernes 20\n",
        "\n",
        "Sábado 12,16,18,20\n",
        "\n",
        "Domingo 12,16,18,20\n",
        "\n",
        "Lunes 20\n",
        "\n",
        "En primer lugar se clasifican los equipos en tres categorías según el numero de\n",
        "seguidores que tienen relación directa con la audiencia. Hay 4 equipos en la\n",
        "categoría A, 10 equipos de categoría B y 6 equipos de categoría C.\n",
        "• Se conoce estadisticamente la audiencia que genera cada partido según los equipos\n",
        "que se enfrentan y en horario de sábado a las 20h (el mejor en todos los casos)\n",
        "\n",
        "Categoría A Categoría B Categoría C\n",
        "\n",
        "Categoría A 2 Millones 1,3 Millones 1 Millones\n",
        "\n",
        "Categoría B 0.9 Millones 0.75 Millones\n",
        "\n",
        "Categoría C 0.47 Millones\n",
        "\n",
        "Si el horario del partido no se realiza a las 20 horas del sábado se sabe que se reduce\n",
        "según los coeficientes de la siguiente tabla\n",
        "• Debemos asignar obligatoriamente siempre un partido el viernes y un partido el lunes\n",
        "Viernes Sábado Domingo Lunes\n",
        "\n",
        "12h - 0.55 0.45 -\n",
        "\n",
        "16h - 0.7 0.75 -\n",
        "\n",
        "18h - 0.8 0.5 -\n",
        "\n",
        "20h 0.4 1 1 0.4\n",
        "\n",
        "Es posible la coincidencia de horarios pero en este\n",
        "caso la audiencia de cada partido se verá afectada y\n",
        "se estima que se reduce en porcentaje según la\n",
        "siguiente tabla dependiendo del número de\n",
        "coincidencias:\n",
        "\n",
        "Coincidencias -%\n",
        "\n",
        "0 0%\n",
        "\n",
        "1 25%\n",
        "\n",
        "2 45%\n",
        "\n",
        "3 60%\n",
        "\n",
        "4 70%\n",
        "\n",
        "5 75%\n",
        "\n",
        "6 78%\n",
        "\n",
        "7 80%\n",
        "\n",
        "8 80%\n",
        "\n",
        "\n",
        "\n",
        "(*) La respuesta es obligatoria\n",
        "\n",
        "\n",
        "\n",
        "\n",
        "\n",
        "                                        "
      ]
    },
    {
      "cell_type": "markdown",
      "metadata": {
        "colab_type": "text",
        "id": "3_-exlrTgLd-"
      },
      "source": [
        "# (*)¿Cuantas posibilidades hay sin tener en cuenta las restricciones?<br>\n",
        "\n",
        "# (*)¿Cuantas posibilidades hay teniendo en cuenta todas las restricciones.<br>\n",
        "\n",
        "\n"
      ]
    },
    {
      "cell_type": "markdown",
      "metadata": {
        "colab_type": "text",
        "id": "WfCUqJyKhPcw"
      },
      "source": [
        "# Respuesta"
      ]
    },
    {
      "cell_type": "code",
      "metadata": {
        "colab_type": "code",
        "id": "iq6Fe32MgpDX",
        "colab": {}
      },
      "source": [
        "Sin tener en cuenta las restricciones, al haber 20 equipos significa que se jugarán 10 partidos, por lo tanto las posibilidades son N=10.\n",
        "\n",
        "En cambio, con restricciones, el número posible de soluciones es N!=10!"
      ],
      "execution_count": 0,
      "outputs": []
    },
    {
      "cell_type": "markdown",
      "metadata": {
        "colab_type": "text",
        "id": "dzynfVJahHoY"
      },
      "source": [
        "# Modelo para el espacio de soluciones<br>\n",
        "# (*) ¿Cual es la estructura de datos que mejor se adapta al problema? Argumentalo.(Es posible que hayas elegido una al principio y veas la necesidad de cambiar, arguentalo)\n"
      ]
    },
    {
      "cell_type": "markdown",
      "metadata": {
        "colab_type": "text",
        "id": "xFIJrOwKi2Ti"
      },
      "source": [
        "# Respuesta"
      ]
    },
    {
      "cell_type": "code",
      "metadata": {
        "colab_type": "code",
        "id": "38c-7-ejhJmA",
        "colab": {}
      },
      "source": [
        "Como vamos a tener que almacenar datos en un DataFrame vamos a utilizar Pandas y para realizar operaciones matemáticas utilizaremos Numpy. La estructura de datos va a tener las siguientes columnas:\n",
        "\n",
        "- Categoría\n",
        "- Equipos\n",
        "- Público\n",
        "- Día del partido\n",
        "- Coeficiente horario\n",
        "\n",
        "A continuación se puede observar:"
      ],
      "execution_count": 0,
      "outputs": []
    },
    {
      "cell_type": "code",
      "metadata": {
        "colab_type": "code",
        "id": "CJb5sQ0qkENy",
        "colab": {}
      },
      "source": [
        "# librerías que vamos a utilizar\n",
        "import pandas as pd\n",
        "import numpy as np\n",
        "import itertools"
      ],
      "execution_count": 0,
      "outputs": []
    },
    {
      "cell_type": "code",
      "metadata": {
        "id": "lptcZmPoUqeP",
        "colab_type": "code",
        "colab": {},
        "outputId": "11f1437e-47c2-49ad-8e92-a781a2645390"
      },
      "source": [
        "#Creamos un diccionario a partir de las categorías de los equipos y la audiencia que va a tener\n",
        "audiencia = {'AA':2e6,'AB':1.3e6,'AC':1e6,'BB':0.9e6,'BC':0.75e6,'CC':0.47e6} #Diccionario audiencia\n",
        "audiencia #Mostramos el diccionario"
      ],
      "execution_count": 0,
      "outputs": [
        {
          "output_type": "execute_result",
          "data": {
            "text/plain": [
              "{'AA': 2000000.0,\n",
              " 'AB': 1300000.0,\n",
              " 'AC': 1000000.0,\n",
              " 'BB': 900000.0,\n",
              " 'BC': 750000.0,\n",
              " 'CC': 470000.0}"
            ]
          },
          "metadata": {
            "tags": []
          },
          "execution_count": 236
        }
      ]
    },
    {
      "cell_type": "code",
      "metadata": {
        "id": "Exi8wL53Uqef",
        "colab_type": "code",
        "colab": {},
        "outputId": "1c95d733-4bc9-45c1-c2b3-88877606bef7"
      },
      "source": [
        "horarios = pd.DataFrame(columns=('dia','coef')) #Generamos un Dataframe con los horarios y el coeficiente de publico aplicado\n",
        "\n",
        "horarios.loc[0]=['viernes_20h',0.4] #Rellenamos el dataframe\n",
        "horarios.loc[1]=['sabado_12h',0.55]\n",
        "horarios.loc[2]=['sabado_16h',0.7]\n",
        "horarios.loc[3]=['sabado_18h',0.8]\n",
        "horarios.loc[4]=['sabado_20h',1]\n",
        "horarios.loc[5]=['domingo_12h',0.45]\n",
        "horarios.loc[6]=['domingo_16h',0.75]\n",
        "horarios.loc[7]=['domingo_18h',0.85]\n",
        "horarios.loc[8]=['domingo_20h',1]\n",
        "horarios.loc[9]=['lunes_20h',0.4]\n",
        "\n",
        "horarios"
      ],
      "execution_count": 0,
      "outputs": [
        {
          "output_type": "execute_result",
          "data": {
            "text/html": [
              "<div>\n",
              "<style scoped>\n",
              "    .dataframe tbody tr th:only-of-type {\n",
              "        vertical-align: middle;\n",
              "    }\n",
              "\n",
              "    .dataframe tbody tr th {\n",
              "        vertical-align: top;\n",
              "    }\n",
              "\n",
              "    .dataframe thead th {\n",
              "        text-align: right;\n",
              "    }\n",
              "</style>\n",
              "<table border=\"1\" class=\"dataframe\">\n",
              "  <thead>\n",
              "    <tr style=\"text-align: right;\">\n",
              "      <th></th>\n",
              "      <th>dia</th>\n",
              "      <th>coef</th>\n",
              "    </tr>\n",
              "  </thead>\n",
              "  <tbody>\n",
              "    <tr>\n",
              "      <th>0</th>\n",
              "      <td>viernes_20h</td>\n",
              "      <td>0.40</td>\n",
              "    </tr>\n",
              "    <tr>\n",
              "      <th>1</th>\n",
              "      <td>sabado_12h</td>\n",
              "      <td>0.55</td>\n",
              "    </tr>\n",
              "    <tr>\n",
              "      <th>2</th>\n",
              "      <td>sabado_16h</td>\n",
              "      <td>0.70</td>\n",
              "    </tr>\n",
              "    <tr>\n",
              "      <th>3</th>\n",
              "      <td>sabado_18h</td>\n",
              "      <td>0.80</td>\n",
              "    </tr>\n",
              "    <tr>\n",
              "      <th>4</th>\n",
              "      <td>sabado_20h</td>\n",
              "      <td>1.00</td>\n",
              "    </tr>\n",
              "    <tr>\n",
              "      <th>5</th>\n",
              "      <td>domingo_12h</td>\n",
              "      <td>0.45</td>\n",
              "    </tr>\n",
              "    <tr>\n",
              "      <th>6</th>\n",
              "      <td>domingo_16h</td>\n",
              "      <td>0.75</td>\n",
              "    </tr>\n",
              "    <tr>\n",
              "      <th>7</th>\n",
              "      <td>domingo_18h</td>\n",
              "      <td>0.85</td>\n",
              "    </tr>\n",
              "    <tr>\n",
              "      <th>8</th>\n",
              "      <td>domingo_20h</td>\n",
              "      <td>1.00</td>\n",
              "    </tr>\n",
              "    <tr>\n",
              "      <th>9</th>\n",
              "      <td>lunes_20h</td>\n",
              "      <td>0.40</td>\n",
              "    </tr>\n",
              "  </tbody>\n",
              "</table>\n",
              "</div>"
            ],
            "text/plain": [
              "           dia  coef\n",
              "0  viernes_20h  0.40\n",
              "1   sabado_12h  0.55\n",
              "2   sabado_16h  0.70\n",
              "3   sabado_18h  0.80\n",
              "4   sabado_20h  1.00\n",
              "5  domingo_12h  0.45\n",
              "6  domingo_16h  0.75\n",
              "7  domingo_18h  0.85\n",
              "8  domingo_20h  1.00\n",
              "9    lunes_20h  0.40"
            ]
          },
          "metadata": {
            "tags": []
          },
          "execution_count": 237
        }
      ]
    },
    {
      "cell_type": "code",
      "metadata": {
        "id": "I2N3tCOoUqes",
        "colab_type": "code",
        "colab": {},
        "outputId": "38bcabb3-33e4-4601-fa1d-0afafd8bbc30"
      },
      "source": [
        "equipos = pd.DataFrame(columns=('nombre','categoria')) #Ahora generaremos un DataFrame con los equipos y su categoría\n",
        "\n",
        "equipos.loc[0]=['Celta','B'] #Rellenamos el dataframe\n",
        "equipos.loc[1]=['Real Madrid','A']\n",
        "equipos.loc[2]=['Valencia','B']\n",
        "equipos.loc[3]=['R.Sociedad','A']\n",
        "equipos.loc[4]=['Mallorca','C']\n",
        "equipos.loc[5]=['Eibar','C']\n",
        "equipos.loc[6]=['Athletic','B']\n",
        "equipos.loc[7]=['Barcelona','A']\n",
        "equipos.loc[8]=['Leganés','C']\n",
        "equipos.loc[9]=['Osasuna','C']\n",
        "equipos.loc[10]=['Villareal','B']\n",
        "equipos.loc[11]=['Granada','C']\n",
        "equipos.loc[12]=['Alaves','B']\n",
        "equipos.loc[13]=['Levante','B']\n",
        "equipos.loc[14]=['Espanyol','B']\n",
        "equipos.loc[15]=['Sevilla','B']\n",
        "equipos.loc[16]=['Betis','B']\n",
        "equipos.loc[17]=['Valladolid','C']\n",
        "equipos.loc[18]=['Atlético','B']\n",
        "equipos.loc[19]=['Getafe','B']\n",
        "\n",
        "equipos"
      ],
      "execution_count": 0,
      "outputs": [
        {
          "output_type": "execute_result",
          "data": {
            "text/html": [
              "<div>\n",
              "<style scoped>\n",
              "    .dataframe tbody tr th:only-of-type {\n",
              "        vertical-align: middle;\n",
              "    }\n",
              "\n",
              "    .dataframe tbody tr th {\n",
              "        vertical-align: top;\n",
              "    }\n",
              "\n",
              "    .dataframe thead th {\n",
              "        text-align: right;\n",
              "    }\n",
              "</style>\n",
              "<table border=\"1\" class=\"dataframe\">\n",
              "  <thead>\n",
              "    <tr style=\"text-align: right;\">\n",
              "      <th></th>\n",
              "      <th>nombre</th>\n",
              "      <th>categoria</th>\n",
              "    </tr>\n",
              "  </thead>\n",
              "  <tbody>\n",
              "    <tr>\n",
              "      <th>0</th>\n",
              "      <td>Celta</td>\n",
              "      <td>B</td>\n",
              "    </tr>\n",
              "    <tr>\n",
              "      <th>1</th>\n",
              "      <td>Real Madrid</td>\n",
              "      <td>A</td>\n",
              "    </tr>\n",
              "    <tr>\n",
              "      <th>2</th>\n",
              "      <td>Valencia</td>\n",
              "      <td>B</td>\n",
              "    </tr>\n",
              "    <tr>\n",
              "      <th>3</th>\n",
              "      <td>R.Sociedad</td>\n",
              "      <td>A</td>\n",
              "    </tr>\n",
              "    <tr>\n",
              "      <th>4</th>\n",
              "      <td>Mallorca</td>\n",
              "      <td>C</td>\n",
              "    </tr>\n",
              "    <tr>\n",
              "      <th>5</th>\n",
              "      <td>Eibar</td>\n",
              "      <td>C</td>\n",
              "    </tr>\n",
              "    <tr>\n",
              "      <th>6</th>\n",
              "      <td>Athletic</td>\n",
              "      <td>B</td>\n",
              "    </tr>\n",
              "    <tr>\n",
              "      <th>7</th>\n",
              "      <td>Barcelona</td>\n",
              "      <td>A</td>\n",
              "    </tr>\n",
              "    <tr>\n",
              "      <th>8</th>\n",
              "      <td>Leganés</td>\n",
              "      <td>C</td>\n",
              "    </tr>\n",
              "    <tr>\n",
              "      <th>9</th>\n",
              "      <td>Osasuna</td>\n",
              "      <td>C</td>\n",
              "    </tr>\n",
              "    <tr>\n",
              "      <th>10</th>\n",
              "      <td>Villareal</td>\n",
              "      <td>B</td>\n",
              "    </tr>\n",
              "    <tr>\n",
              "      <th>11</th>\n",
              "      <td>Granada</td>\n",
              "      <td>C</td>\n",
              "    </tr>\n",
              "    <tr>\n",
              "      <th>12</th>\n",
              "      <td>Alaves</td>\n",
              "      <td>B</td>\n",
              "    </tr>\n",
              "    <tr>\n",
              "      <th>13</th>\n",
              "      <td>Levante</td>\n",
              "      <td>B</td>\n",
              "    </tr>\n",
              "    <tr>\n",
              "      <th>14</th>\n",
              "      <td>Espanyol</td>\n",
              "      <td>B</td>\n",
              "    </tr>\n",
              "    <tr>\n",
              "      <th>15</th>\n",
              "      <td>Sevilla</td>\n",
              "      <td>B</td>\n",
              "    </tr>\n",
              "    <tr>\n",
              "      <th>16</th>\n",
              "      <td>Betis</td>\n",
              "      <td>B</td>\n",
              "    </tr>\n",
              "    <tr>\n",
              "      <th>17</th>\n",
              "      <td>Valladolid</td>\n",
              "      <td>C</td>\n",
              "    </tr>\n",
              "    <tr>\n",
              "      <th>18</th>\n",
              "      <td>Atlético</td>\n",
              "      <td>B</td>\n",
              "    </tr>\n",
              "    <tr>\n",
              "      <th>19</th>\n",
              "      <td>Getafe</td>\n",
              "      <td>B</td>\n",
              "    </tr>\n",
              "  </tbody>\n",
              "</table>\n",
              "</div>"
            ],
            "text/plain": [
              "         nombre categoria\n",
              "0         Celta         B\n",
              "1   Real Madrid         A\n",
              "2      Valencia         B\n",
              "3    R.Sociedad         A\n",
              "4      Mallorca         C\n",
              "5         Eibar         C\n",
              "6      Athletic         B\n",
              "7     Barcelona         A\n",
              "8       Leganés         C\n",
              "9       Osasuna         C\n",
              "10    Villareal         B\n",
              "11      Granada         C\n",
              "12       Alaves         B\n",
              "13      Levante         B\n",
              "14     Espanyol         B\n",
              "15      Sevilla         B\n",
              "16        Betis         B\n",
              "17   Valladolid         C\n",
              "18     Atlético         B\n",
              "19       Getafe         B"
            ]
          },
          "metadata": {
            "tags": []
          },
          "execution_count": 238
        }
      ]
    },
    {
      "cell_type": "code",
      "metadata": {
        "id": "eJPLhYQwUqe2",
        "colab_type": "code",
        "colab": {},
        "outputId": "1cae9e41-7e3c-4caf-e1d2-aade1ce40de7"
      },
      "source": [
        "#Crear jornada aleatoria\n",
        "def aleatorio(equipos):\n",
        "    df = equipos.iloc[np.random.permutation(len(equipos))] #ordenacion aleatoriaa través del módulo de numpy random permutation\n",
        "    return df\n",
        "jornada_aleatoria = aleatorio(equipos) #Llamada a función\n",
        "jornada_aleatoria"
      ],
      "execution_count": 0,
      "outputs": [
        {
          "output_type": "execute_result",
          "data": {
            "text/html": [
              "<div>\n",
              "<style scoped>\n",
              "    .dataframe tbody tr th:only-of-type {\n",
              "        vertical-align: middle;\n",
              "    }\n",
              "\n",
              "    .dataframe tbody tr th {\n",
              "        vertical-align: top;\n",
              "    }\n",
              "\n",
              "    .dataframe thead th {\n",
              "        text-align: right;\n",
              "    }\n",
              "</style>\n",
              "<table border=\"1\" class=\"dataframe\">\n",
              "  <thead>\n",
              "    <tr style=\"text-align: right;\">\n",
              "      <th></th>\n",
              "      <th>nombre</th>\n",
              "      <th>categoria</th>\n",
              "    </tr>\n",
              "  </thead>\n",
              "  <tbody>\n",
              "    <tr>\n",
              "      <th>18</th>\n",
              "      <td>Atlético</td>\n",
              "      <td>B</td>\n",
              "    </tr>\n",
              "    <tr>\n",
              "      <th>8</th>\n",
              "      <td>Leganés</td>\n",
              "      <td>C</td>\n",
              "    </tr>\n",
              "    <tr>\n",
              "      <th>7</th>\n",
              "      <td>Barcelona</td>\n",
              "      <td>A</td>\n",
              "    </tr>\n",
              "    <tr>\n",
              "      <th>3</th>\n",
              "      <td>R.Sociedad</td>\n",
              "      <td>A</td>\n",
              "    </tr>\n",
              "    <tr>\n",
              "      <th>12</th>\n",
              "      <td>Alaves</td>\n",
              "      <td>B</td>\n",
              "    </tr>\n",
              "    <tr>\n",
              "      <th>6</th>\n",
              "      <td>Athletic</td>\n",
              "      <td>B</td>\n",
              "    </tr>\n",
              "    <tr>\n",
              "      <th>15</th>\n",
              "      <td>Sevilla</td>\n",
              "      <td>B</td>\n",
              "    </tr>\n",
              "    <tr>\n",
              "      <th>14</th>\n",
              "      <td>Espanyol</td>\n",
              "      <td>B</td>\n",
              "    </tr>\n",
              "    <tr>\n",
              "      <th>0</th>\n",
              "      <td>Celta</td>\n",
              "      <td>B</td>\n",
              "    </tr>\n",
              "    <tr>\n",
              "      <th>19</th>\n",
              "      <td>Getafe</td>\n",
              "      <td>B</td>\n",
              "    </tr>\n",
              "    <tr>\n",
              "      <th>5</th>\n",
              "      <td>Eibar</td>\n",
              "      <td>C</td>\n",
              "    </tr>\n",
              "    <tr>\n",
              "      <th>9</th>\n",
              "      <td>Osasuna</td>\n",
              "      <td>C</td>\n",
              "    </tr>\n",
              "    <tr>\n",
              "      <th>2</th>\n",
              "      <td>Valencia</td>\n",
              "      <td>B</td>\n",
              "    </tr>\n",
              "    <tr>\n",
              "      <th>1</th>\n",
              "      <td>Real Madrid</td>\n",
              "      <td>A</td>\n",
              "    </tr>\n",
              "    <tr>\n",
              "      <th>16</th>\n",
              "      <td>Betis</td>\n",
              "      <td>B</td>\n",
              "    </tr>\n",
              "    <tr>\n",
              "      <th>13</th>\n",
              "      <td>Levante</td>\n",
              "      <td>B</td>\n",
              "    </tr>\n",
              "    <tr>\n",
              "      <th>10</th>\n",
              "      <td>Villareal</td>\n",
              "      <td>B</td>\n",
              "    </tr>\n",
              "    <tr>\n",
              "      <th>11</th>\n",
              "      <td>Granada</td>\n",
              "      <td>C</td>\n",
              "    </tr>\n",
              "    <tr>\n",
              "      <th>17</th>\n",
              "      <td>Valladolid</td>\n",
              "      <td>C</td>\n",
              "    </tr>\n",
              "    <tr>\n",
              "      <th>4</th>\n",
              "      <td>Mallorca</td>\n",
              "      <td>C</td>\n",
              "    </tr>\n",
              "  </tbody>\n",
              "</table>\n",
              "</div>"
            ],
            "text/plain": [
              "         nombre categoria\n",
              "18     Atlético         B\n",
              "8       Leganés         C\n",
              "7     Barcelona         A\n",
              "3    R.Sociedad         A\n",
              "12       Alaves         B\n",
              "6      Athletic         B\n",
              "15      Sevilla         B\n",
              "14     Espanyol         B\n",
              "0         Celta         B\n",
              "19       Getafe         B\n",
              "5         Eibar         C\n",
              "9       Osasuna         C\n",
              "2      Valencia         B\n",
              "1   Real Madrid         A\n",
              "16        Betis         B\n",
              "13      Levante         B\n",
              "10    Villareal         B\n",
              "11      Granada         C\n",
              "17   Valladolid         C\n",
              "4      Mallorca         C"
            ]
          },
          "metadata": {
            "tags": []
          },
          "execution_count": 239
        }
      ]
    },
    {
      "cell_type": "code",
      "metadata": {
        "id": "soBmrBvFUqe9",
        "colab_type": "code",
        "colab": {},
        "outputId": "2b547abd-ff7e-40c3-d5f0-458810f7fdce"
      },
      "source": [
        "#Creamos la tabla de enfrentamientos de la jornada\n",
        "def enfrentamientos(original):\n",
        "    df_jornada = pd.DataFrame(columns=('categoria','publico','equipos')) #Creamos otro dataframe para guardar la categoría de ambos partidos, el público y los equipos\n",
        "    #Luego lo concatenaremos con el horario\n",
        "    for i in range(0,len(original),2): #Recorremos el dataframe de la jornada aleatoria de dos en dos ya que los partidos son 1 vs 1\n",
        "        valor = original.iloc(axis=0)[i]['categoria'] #Guardamos el valor de categoría del equipo 1                        \n",
        "        valor_1 = original.iloc(axis=0)[i+1]['categoria'] #Guardamos el valor de categoría del equipo 2\n",
        "        if valor < valor_1: #Si el equipo 1 tiene menor categoría que el equipo 2\n",
        "            cat = valor + valor_1 #Sumamos la categoría\n",
        "            aud= audiencia[cat] #el público total viene definido en el diccionario audiencia que creamos antes\n",
        "            partido = original.iloc(axis=0)[i]['nombre'] + '  vs  '+ original.iloc(axis=0)[i+1]['nombre']# columna para poner los partidos\n",
        "        else:#Si el equipo 1 tiene mayor categoría que el equipo 2\n",
        "            cat = valor_1 + valor # Hacemos lo mismo que anteriormente\n",
        "            aud= audiencia[cat]\n",
        "            partido = original.iloc(axis=0)[i+1]['nombre'] + ' vs '+ original.iloc(axis=0)[i]['nombre']\n",
        "\n",
        "        # Rellenamos el dataframe con las filas generadas\n",
        "        df_jornada.loc[len(df_jornada)]=[cat,aud,partido]\n",
        "    \n",
        "    return df_jornada\n",
        "        \n",
        "jornada = enfrentamientos(jornada_aleatoria) #Llamada a función\n",
        "jornada"
      ],
      "execution_count": 0,
      "outputs": [
        {
          "output_type": "execute_result",
          "data": {
            "text/html": [
              "<div>\n",
              "<style scoped>\n",
              "    .dataframe tbody tr th:only-of-type {\n",
              "        vertical-align: middle;\n",
              "    }\n",
              "\n",
              "    .dataframe tbody tr th {\n",
              "        vertical-align: top;\n",
              "    }\n",
              "\n",
              "    .dataframe thead th {\n",
              "        text-align: right;\n",
              "    }\n",
              "</style>\n",
              "<table border=\"1\" class=\"dataframe\">\n",
              "  <thead>\n",
              "    <tr style=\"text-align: right;\">\n",
              "      <th></th>\n",
              "      <th>categoria</th>\n",
              "      <th>publico</th>\n",
              "      <th>equipos</th>\n",
              "    </tr>\n",
              "  </thead>\n",
              "  <tbody>\n",
              "    <tr>\n",
              "      <th>0</th>\n",
              "      <td>BC</td>\n",
              "      <td>750000.0</td>\n",
              "      <td>Atlético  vs  Leganés</td>\n",
              "    </tr>\n",
              "    <tr>\n",
              "      <th>1</th>\n",
              "      <td>AA</td>\n",
              "      <td>2000000.0</td>\n",
              "      <td>R.Sociedad vs Barcelona</td>\n",
              "    </tr>\n",
              "    <tr>\n",
              "      <th>2</th>\n",
              "      <td>BB</td>\n",
              "      <td>900000.0</td>\n",
              "      <td>Athletic vs Alaves</td>\n",
              "    </tr>\n",
              "    <tr>\n",
              "      <th>3</th>\n",
              "      <td>BB</td>\n",
              "      <td>900000.0</td>\n",
              "      <td>Espanyol vs Sevilla</td>\n",
              "    </tr>\n",
              "    <tr>\n",
              "      <th>4</th>\n",
              "      <td>BB</td>\n",
              "      <td>900000.0</td>\n",
              "      <td>Getafe vs Celta</td>\n",
              "    </tr>\n",
              "    <tr>\n",
              "      <th>5</th>\n",
              "      <td>CC</td>\n",
              "      <td>470000.0</td>\n",
              "      <td>Osasuna vs Eibar</td>\n",
              "    </tr>\n",
              "    <tr>\n",
              "      <th>6</th>\n",
              "      <td>AB</td>\n",
              "      <td>1300000.0</td>\n",
              "      <td>Real Madrid vs Valencia</td>\n",
              "    </tr>\n",
              "    <tr>\n",
              "      <th>7</th>\n",
              "      <td>BB</td>\n",
              "      <td>900000.0</td>\n",
              "      <td>Levante vs Betis</td>\n",
              "    </tr>\n",
              "    <tr>\n",
              "      <th>8</th>\n",
              "      <td>BC</td>\n",
              "      <td>750000.0</td>\n",
              "      <td>Villareal  vs  Granada</td>\n",
              "    </tr>\n",
              "    <tr>\n",
              "      <th>9</th>\n",
              "      <td>CC</td>\n",
              "      <td>470000.0</td>\n",
              "      <td>Mallorca vs Valladolid</td>\n",
              "    </tr>\n",
              "  </tbody>\n",
              "</table>\n",
              "</div>"
            ],
            "text/plain": [
              "  categoria    publico                  equipos\n",
              "0        BC   750000.0    Atlético  vs  Leganés\n",
              "1        AA  2000000.0  R.Sociedad vs Barcelona\n",
              "2        BB   900000.0       Athletic vs Alaves\n",
              "3        BB   900000.0      Espanyol vs Sevilla\n",
              "4        BB   900000.0          Getafe vs Celta\n",
              "5        CC   470000.0         Osasuna vs Eibar\n",
              "6        AB  1300000.0  Real Madrid vs Valencia\n",
              "7        BB   900000.0         Levante vs Betis\n",
              "8        BC   750000.0   Villareal  vs  Granada\n",
              "9        CC   470000.0   Mallorca vs Valladolid"
            ]
          },
          "metadata": {
            "tags": []
          },
          "execution_count": 240
        }
      ]
    },
    {
      "cell_type": "code",
      "metadata": {
        "id": "U043qUbQUqfF",
        "colab_type": "code",
        "colab": {}
      },
      "source": [
        "#Usamos la función de calcular tiempo que vimos en clase para comparar luego con un algoritmo que lo mejore\n",
        "from functools import wraps\n",
        "from time import time\n",
        "def calcular_tiempo(f):\n",
        "    @wraps(f)\n",
        "    def cronometro(*args, **kwargs):\n",
        "        t_inicial = time()\n",
        "        salida = f(*args, **kwargs)\n",
        "        t_final = time()\n",
        "        print('Tiempo transcurrido (en segundos): {}'.format(t_final - t_inicial))\n",
        "        return salida\n",
        "    return cronometro"
      ],
      "execution_count": 0,
      "outputs": []
    },
    {
      "cell_type": "code",
      "metadata": {
        "id": "_TzAQshgUqfM",
        "colab_type": "code",
        "colab": {},
        "outputId": "1a98d8ad-30a6-4f03-c2a9-e6f32f6a3079"
      },
      "source": [
        "jornada_FB=jornada.copy()\n",
        "jornada_FB[['dia','coef']] = horarios\n",
        "jornada_FB"
      ],
      "execution_count": 0,
      "outputs": [
        {
          "output_type": "execute_result",
          "data": {
            "text/html": [
              "<div>\n",
              "<style scoped>\n",
              "    .dataframe tbody tr th:only-of-type {\n",
              "        vertical-align: middle;\n",
              "    }\n",
              "\n",
              "    .dataframe tbody tr th {\n",
              "        vertical-align: top;\n",
              "    }\n",
              "\n",
              "    .dataframe thead th {\n",
              "        text-align: right;\n",
              "    }\n",
              "</style>\n",
              "<table border=\"1\" class=\"dataframe\">\n",
              "  <thead>\n",
              "    <tr style=\"text-align: right;\">\n",
              "      <th></th>\n",
              "      <th>categoria</th>\n",
              "      <th>publico</th>\n",
              "      <th>equipos</th>\n",
              "      <th>dia</th>\n",
              "      <th>coef</th>\n",
              "    </tr>\n",
              "  </thead>\n",
              "  <tbody>\n",
              "    <tr>\n",
              "      <th>0</th>\n",
              "      <td>BC</td>\n",
              "      <td>750000.0</td>\n",
              "      <td>Atlético  vs  Leganés</td>\n",
              "      <td>viernes_20h</td>\n",
              "      <td>0.40</td>\n",
              "    </tr>\n",
              "    <tr>\n",
              "      <th>1</th>\n",
              "      <td>AA</td>\n",
              "      <td>2000000.0</td>\n",
              "      <td>R.Sociedad vs Barcelona</td>\n",
              "      <td>sabado_12h</td>\n",
              "      <td>0.55</td>\n",
              "    </tr>\n",
              "    <tr>\n",
              "      <th>2</th>\n",
              "      <td>BB</td>\n",
              "      <td>900000.0</td>\n",
              "      <td>Athletic vs Alaves</td>\n",
              "      <td>sabado_16h</td>\n",
              "      <td>0.70</td>\n",
              "    </tr>\n",
              "    <tr>\n",
              "      <th>3</th>\n",
              "      <td>BB</td>\n",
              "      <td>900000.0</td>\n",
              "      <td>Espanyol vs Sevilla</td>\n",
              "      <td>sabado_18h</td>\n",
              "      <td>0.80</td>\n",
              "    </tr>\n",
              "    <tr>\n",
              "      <th>4</th>\n",
              "      <td>BB</td>\n",
              "      <td>900000.0</td>\n",
              "      <td>Getafe vs Celta</td>\n",
              "      <td>sabado_20h</td>\n",
              "      <td>1.00</td>\n",
              "    </tr>\n",
              "    <tr>\n",
              "      <th>5</th>\n",
              "      <td>CC</td>\n",
              "      <td>470000.0</td>\n",
              "      <td>Osasuna vs Eibar</td>\n",
              "      <td>domingo_12h</td>\n",
              "      <td>0.45</td>\n",
              "    </tr>\n",
              "    <tr>\n",
              "      <th>6</th>\n",
              "      <td>AB</td>\n",
              "      <td>1300000.0</td>\n",
              "      <td>Real Madrid vs Valencia</td>\n",
              "      <td>domingo_16h</td>\n",
              "      <td>0.75</td>\n",
              "    </tr>\n",
              "    <tr>\n",
              "      <th>7</th>\n",
              "      <td>BB</td>\n",
              "      <td>900000.0</td>\n",
              "      <td>Levante vs Betis</td>\n",
              "      <td>domingo_18h</td>\n",
              "      <td>0.85</td>\n",
              "    </tr>\n",
              "    <tr>\n",
              "      <th>8</th>\n",
              "      <td>BC</td>\n",
              "      <td>750000.0</td>\n",
              "      <td>Villareal  vs  Granada</td>\n",
              "      <td>domingo_20h</td>\n",
              "      <td>1.00</td>\n",
              "    </tr>\n",
              "    <tr>\n",
              "      <th>9</th>\n",
              "      <td>CC</td>\n",
              "      <td>470000.0</td>\n",
              "      <td>Mallorca vs Valladolid</td>\n",
              "      <td>lunes_20h</td>\n",
              "      <td>0.40</td>\n",
              "    </tr>\n",
              "  </tbody>\n",
              "</table>\n",
              "</div>"
            ],
            "text/plain": [
              "  categoria    publico                  equipos          dia  coef\n",
              "0        BC   750000.0    Atlético  vs  Leganés  viernes_20h  0.40\n",
              "1        AA  2000000.0  R.Sociedad vs Barcelona   sabado_12h  0.55\n",
              "2        BB   900000.0       Athletic vs Alaves   sabado_16h  0.70\n",
              "3        BB   900000.0      Espanyol vs Sevilla   sabado_18h  0.80\n",
              "4        BB   900000.0          Getafe vs Celta   sabado_20h  1.00\n",
              "5        CC   470000.0         Osasuna vs Eibar  domingo_12h  0.45\n",
              "6        AB  1300000.0  Real Madrid vs Valencia  domingo_16h  0.75\n",
              "7        BB   900000.0         Levante vs Betis  domingo_18h  0.85\n",
              "8        BC   750000.0   Villareal  vs  Granada  domingo_20h  1.00\n",
              "9        CC   470000.0   Mallorca vs Valladolid    lunes_20h  0.40"
            ]
          },
          "metadata": {
            "tags": []
          },
          "execution_count": 242
        }
      ]
    },
    {
      "cell_type": "markdown",
      "metadata": {
        "colab_type": "text",
        "id": "7Z9U2W7bi-XS"
      },
      "source": [
        "# Según el modelo para el espacio de soluciones<br>\n",
        "# (*)¿Cual es la función objetivo?\n",
        "\n",
        "# (*)¿Es un problema de maximización o minimización?"
      ]
    },
    {
      "cell_type": "markdown",
      "metadata": {
        "colab_type": "text",
        "id": "hBalWLM7j1_d"
      },
      "source": [
        "# Respuesta"
      ]
    },
    {
      "cell_type": "code",
      "metadata": {
        "colab_type": "code",
        "id": "pDA-rg3Gj5Lz",
        "colab": {}
      },
      "source": [
        "La función objetivo es de tipo lineal:\n",
        "f(x1,...,xn)= h1·x1 + ... + hn·xn\n",
        "Siendo x las audiencias de los partidos según la categoría y h el coeficiente según el horario\n",
        "\n",
        "El problema es de maximicación porque tal y como se ha explicado en el apartado anterior, se busca que la audiencia de cada jornada sea máxima"
      ],
      "execution_count": 0,
      "outputs": []
    },
    {
      "cell_type": "markdown",
      "metadata": {
        "colab_type": "text",
        "id": "rlnTYgY1j6I2"
      },
      "source": [
        "# Diseña un algoritmo para resolver el problema por fuerza bruta"
      ]
    },
    {
      "cell_type": "markdown",
      "metadata": {
        "id": "3i-4_NRBUqfi",
        "colab_type": "text"
      },
      "source": [
        "# Algoritmo por fuerza bruta"
      ]
    },
    {
      "cell_type": "code",
      "metadata": {
        "colab_type": "code",
        "id": "rvZWwL-ckRST",
        "colab": {}
      },
      "source": [
        "@calcular_tiempo\n",
        "def fuerza_bruta(col): #Función para buscar por fuerza bruta la jornada con más audiencia\n",
        "    result=0 #Valor inicial\n",
        "    maxima=0 #Valor inicial\n",
        "    for i in list(itertools.permutations(col)): #Hacemos todas las permutaciones posibles\n",
        "        result=audiencia(i) #Calculamos la audiencia\n",
        "        if result>maxima: #Si la nueva audiencia supera a la anterior\n",
        "            maxima=result #Guardamos la audienca\n",
        "            jornada_FB['publico max']=i #Guardamos el orden del público en una nueva columna\n",
        "    return maxima       \n"
      ],
      "execution_count": 0,
      "outputs": []
    },
    {
      "cell_type": "code",
      "metadata": {
        "id": "_dfLQtBUUqfs",
        "colab_type": "code",
        "colab": {}
      },
      "source": [
        "def audiencia(df):\n",
        "    result=0 #Variable para contar el número de espectadores\n",
        "    for i in range(len(df)):# recorremos la jornada\n",
        "        result+=df[i]*jornada_FB.iloc(axis=0)[i]['coef'] #multiplicamos la audiencia por el coeficiente de horario\n",
        "    return result\n",
        "    "
      ],
      "execution_count": 0,
      "outputs": []
    },
    {
      "cell_type": "code",
      "metadata": {
        "id": "8TOAFrTrUqfz",
        "colab_type": "code",
        "colab": {},
        "outputId": "4601b16b-1d0b-44b4-a90b-980bb075c3c5"
      },
      "source": [
        "total=fuerza_bruta(jornada_FB['publico'])\n",
        "print(\"La audiencia máxima son\",total,\"espectadores\")\n",
        "jornada_FB"
      ],
      "execution_count": 0,
      "outputs": [
        {
          "output_type": "stream",
          "text": [
            "Tiempo transcurrido (en segundos): 13739.62189745903\n",
            "La audiencia máxima son 7216000.0 espectadores\n"
          ],
          "name": "stdout"
        },
        {
          "output_type": "execute_result",
          "data": {
            "text/html": [
              "<div>\n",
              "<style scoped>\n",
              "    .dataframe tbody tr th:only-of-type {\n",
              "        vertical-align: middle;\n",
              "    }\n",
              "\n",
              "    .dataframe tbody tr th {\n",
              "        vertical-align: top;\n",
              "    }\n",
              "\n",
              "    .dataframe thead th {\n",
              "        text-align: right;\n",
              "    }\n",
              "</style>\n",
              "<table border=\"1\" class=\"dataframe\">\n",
              "  <thead>\n",
              "    <tr style=\"text-align: right;\">\n",
              "      <th></th>\n",
              "      <th>categoria</th>\n",
              "      <th>publico</th>\n",
              "      <th>equipos</th>\n",
              "      <th>dia</th>\n",
              "      <th>coef</th>\n",
              "      <th>publico max</th>\n",
              "    </tr>\n",
              "  </thead>\n",
              "  <tbody>\n",
              "    <tr>\n",
              "      <th>0</th>\n",
              "      <td>BC</td>\n",
              "      <td>750000.0</td>\n",
              "      <td>Atlético  vs  Leganés</td>\n",
              "      <td>viernes_20h</td>\n",
              "      <td>0.40</td>\n",
              "      <td>470000.0</td>\n",
              "    </tr>\n",
              "    <tr>\n",
              "      <th>1</th>\n",
              "      <td>AA</td>\n",
              "      <td>2000000.0</td>\n",
              "      <td>R.Sociedad vs Barcelona</td>\n",
              "      <td>sabado_12h</td>\n",
              "      <td>0.55</td>\n",
              "      <td>750000.0</td>\n",
              "    </tr>\n",
              "    <tr>\n",
              "      <th>2</th>\n",
              "      <td>BB</td>\n",
              "      <td>900000.0</td>\n",
              "      <td>Athletic vs Alaves</td>\n",
              "      <td>sabado_16h</td>\n",
              "      <td>0.70</td>\n",
              "      <td>900000.0</td>\n",
              "    </tr>\n",
              "    <tr>\n",
              "      <th>3</th>\n",
              "      <td>BB</td>\n",
              "      <td>900000.0</td>\n",
              "      <td>Espanyol vs Sevilla</td>\n",
              "      <td>sabado_18h</td>\n",
              "      <td>0.80</td>\n",
              "      <td>900000.0</td>\n",
              "    </tr>\n",
              "    <tr>\n",
              "      <th>4</th>\n",
              "      <td>BB</td>\n",
              "      <td>900000.0</td>\n",
              "      <td>Getafe vs Celta</td>\n",
              "      <td>sabado_20h</td>\n",
              "      <td>1.00</td>\n",
              "      <td>2000000.0</td>\n",
              "    </tr>\n",
              "    <tr>\n",
              "      <th>5</th>\n",
              "      <td>CC</td>\n",
              "      <td>470000.0</td>\n",
              "      <td>Osasuna vs Eibar</td>\n",
              "      <td>domingo_12h</td>\n",
              "      <td>0.45</td>\n",
              "      <td>750000.0</td>\n",
              "    </tr>\n",
              "    <tr>\n",
              "      <th>6</th>\n",
              "      <td>AB</td>\n",
              "      <td>1300000.0</td>\n",
              "      <td>Real Madrid vs Valencia</td>\n",
              "      <td>domingo_16h</td>\n",
              "      <td>0.75</td>\n",
              "      <td>900000.0</td>\n",
              "    </tr>\n",
              "    <tr>\n",
              "      <th>7</th>\n",
              "      <td>BB</td>\n",
              "      <td>900000.0</td>\n",
              "      <td>Levante vs Betis</td>\n",
              "      <td>domingo_18h</td>\n",
              "      <td>0.85</td>\n",
              "      <td>900000.0</td>\n",
              "    </tr>\n",
              "    <tr>\n",
              "      <th>8</th>\n",
              "      <td>BC</td>\n",
              "      <td>750000.0</td>\n",
              "      <td>Villareal  vs  Granada</td>\n",
              "      <td>domingo_20h</td>\n",
              "      <td>1.00</td>\n",
              "      <td>1300000.0</td>\n",
              "    </tr>\n",
              "    <tr>\n",
              "      <th>9</th>\n",
              "      <td>CC</td>\n",
              "      <td>470000.0</td>\n",
              "      <td>Mallorca vs Valladolid</td>\n",
              "      <td>lunes_20h</td>\n",
              "      <td>0.40</td>\n",
              "      <td>470000.0</td>\n",
              "    </tr>\n",
              "  </tbody>\n",
              "</table>\n",
              "</div>"
            ],
            "text/plain": [
              "  categoria    publico                  equipos          dia  coef  \\\n",
              "0        BC   750000.0    Atlético  vs  Leganés  viernes_20h  0.40   \n",
              "1        AA  2000000.0  R.Sociedad vs Barcelona   sabado_12h  0.55   \n",
              "2        BB   900000.0       Athletic vs Alaves   sabado_16h  0.70   \n",
              "3        BB   900000.0      Espanyol vs Sevilla   sabado_18h  0.80   \n",
              "4        BB   900000.0          Getafe vs Celta   sabado_20h  1.00   \n",
              "5        CC   470000.0         Osasuna vs Eibar  domingo_12h  0.45   \n",
              "6        AB  1300000.0  Real Madrid vs Valencia  domingo_16h  0.75   \n",
              "7        BB   900000.0         Levante vs Betis  domingo_18h  0.85   \n",
              "8        BC   750000.0   Villareal  vs  Granada  domingo_20h  1.00   \n",
              "9        CC   470000.0   Mallorca vs Valladolid    lunes_20h  0.40   \n",
              "\n",
              "   publico max  \n",
              "0     470000.0  \n",
              "1     750000.0  \n",
              "2     900000.0  \n",
              "3     900000.0  \n",
              "4    2000000.0  \n",
              "5     750000.0  \n",
              "6     900000.0  \n",
              "7     900000.0  \n",
              "8    1300000.0  \n",
              "9     470000.0  "
            ]
          },
          "metadata": {
            "tags": []
          },
          "execution_count": 245
        }
      ]
    },
    {
      "cell_type": "markdown",
      "metadata": {
        "id": "sMQISivIUqf6",
        "colab_type": "text"
      },
      "source": [
        "Como la columna de publico max ha cambiado respecto a la columna publico anterior. Reordenamos la tabla para que cuadren las categorías y partidos como antes pero ahora con la columna público max"
      ]
    },
    {
      "cell_type": "code",
      "metadata": {
        "id": "91EEX-KeUqf8",
        "colab_type": "code",
        "colab": {},
        "outputId": "f5841fa3-bd02-4c4c-e08f-6aaef7b11649"
      },
      "source": [
        "#Generamos dos columnas nuevas para ordenar la categoría y equipos\n",
        "jornada_FB['categoria max']=np.arange(0,len(jornada_FB['dia'])) \n",
        "jornada_FB['equipos max']=np.arange(0,len(jornada_FB['dia']))\n",
        "k=np.ones(len(jornada_FB['dia'])) #Generamos un array para almacenar las j que ya se hayan chequeado y así no repetirlas\n",
        "k=k*((len(jornada_FB['dia']))+1) #Le damos un valor alto para que al sustituirlas no coincida con una j de la columna\n",
        "#Buscamos el valor de público antiguo respecto a la posición de \"publico max\"\n",
        "for i in range (len(jornada_FB['dia'])):\n",
        "    j=0\n",
        "    while j<(len(jornada_FB['dia'])):\n",
        "        if (jornada_FB.iloc[j]['publico']==jornada_FB.iloc[i]['publico max']) and j not in k: #Cuando sean iguales y lo haya encontrado\n",
        "            #Reemplazamos las posiciones en una nueva columna\n",
        "            jornada_FB.loc[i,'categoria max']=jornada_FB.loc[j,'categoria']\n",
        "            jornada_FB.loc[i,'equipos max']=jornada_FB.loc[j,'equipos']\n",
        "            k[i]=j #Almacenamos la j vista en el array\n",
        "            j=len(jornada_FB['dia']) #Como ya lo ha encontrado saltamos a la siguiente fila de público\n",
        "        else:\n",
        "            j+=1\n",
        "            \n",
        "#Borramos las columnas antiguas\n",
        "del jornada_FB['categoria']\n",
        "del jornada_FB['publico']\n",
        "del jornada_FB['equipos']\n",
        "#Volvemos a ordenar las columnas\n",
        "jornada_FB=jornada_FB[['categoria max','equipos max', 'publico max','dia','coef']]\n",
        "\n",
        "print(\"La audiencia máxima es \",total,\"espectadores\")\n",
        "print (\"Y la jornada es: \\n\")\n",
        "jornada_FB "
      ],
      "execution_count": 0,
      "outputs": [
        {
          "output_type": "stream",
          "text": [
            "La audiencia máxima es  7216000.0 espectadores\n",
            "Y la jornada es: \n",
            "\n"
          ],
          "name": "stdout"
        },
        {
          "output_type": "execute_result",
          "data": {
            "text/html": [
              "<div>\n",
              "<style scoped>\n",
              "    .dataframe tbody tr th:only-of-type {\n",
              "        vertical-align: middle;\n",
              "    }\n",
              "\n",
              "    .dataframe tbody tr th {\n",
              "        vertical-align: top;\n",
              "    }\n",
              "\n",
              "    .dataframe thead th {\n",
              "        text-align: right;\n",
              "    }\n",
              "</style>\n",
              "<table border=\"1\" class=\"dataframe\">\n",
              "  <thead>\n",
              "    <tr style=\"text-align: right;\">\n",
              "      <th></th>\n",
              "      <th>categoria max</th>\n",
              "      <th>equipos max</th>\n",
              "      <th>publico max</th>\n",
              "      <th>dia</th>\n",
              "      <th>coef</th>\n",
              "    </tr>\n",
              "  </thead>\n",
              "  <tbody>\n",
              "    <tr>\n",
              "      <th>0</th>\n",
              "      <td>CC</td>\n",
              "      <td>Osasuna vs Eibar</td>\n",
              "      <td>470000.0</td>\n",
              "      <td>viernes_20h</td>\n",
              "      <td>0.40</td>\n",
              "    </tr>\n",
              "    <tr>\n",
              "      <th>1</th>\n",
              "      <td>BC</td>\n",
              "      <td>Atlético  vs  Leganés</td>\n",
              "      <td>750000.0</td>\n",
              "      <td>sabado_12h</td>\n",
              "      <td>0.55</td>\n",
              "    </tr>\n",
              "    <tr>\n",
              "      <th>2</th>\n",
              "      <td>BB</td>\n",
              "      <td>Athletic vs Alaves</td>\n",
              "      <td>900000.0</td>\n",
              "      <td>sabado_16h</td>\n",
              "      <td>0.70</td>\n",
              "    </tr>\n",
              "    <tr>\n",
              "      <th>3</th>\n",
              "      <td>BB</td>\n",
              "      <td>Espanyol vs Sevilla</td>\n",
              "      <td>900000.0</td>\n",
              "      <td>sabado_18h</td>\n",
              "      <td>0.80</td>\n",
              "    </tr>\n",
              "    <tr>\n",
              "      <th>4</th>\n",
              "      <td>AA</td>\n",
              "      <td>R.Sociedad vs Barcelona</td>\n",
              "      <td>2000000.0</td>\n",
              "      <td>sabado_20h</td>\n",
              "      <td>1.00</td>\n",
              "    </tr>\n",
              "    <tr>\n",
              "      <th>5</th>\n",
              "      <td>BC</td>\n",
              "      <td>Villareal  vs  Granada</td>\n",
              "      <td>750000.0</td>\n",
              "      <td>domingo_12h</td>\n",
              "      <td>0.45</td>\n",
              "    </tr>\n",
              "    <tr>\n",
              "      <th>6</th>\n",
              "      <td>BB</td>\n",
              "      <td>Getafe vs Celta</td>\n",
              "      <td>900000.0</td>\n",
              "      <td>domingo_16h</td>\n",
              "      <td>0.75</td>\n",
              "    </tr>\n",
              "    <tr>\n",
              "      <th>7</th>\n",
              "      <td>BB</td>\n",
              "      <td>Levante vs Betis</td>\n",
              "      <td>900000.0</td>\n",
              "      <td>domingo_18h</td>\n",
              "      <td>0.85</td>\n",
              "    </tr>\n",
              "    <tr>\n",
              "      <th>8</th>\n",
              "      <td>AB</td>\n",
              "      <td>Real Madrid vs Valencia</td>\n",
              "      <td>1300000.0</td>\n",
              "      <td>domingo_20h</td>\n",
              "      <td>1.00</td>\n",
              "    </tr>\n",
              "    <tr>\n",
              "      <th>9</th>\n",
              "      <td>CC</td>\n",
              "      <td>Mallorca vs Valladolid</td>\n",
              "      <td>470000.0</td>\n",
              "      <td>lunes_20h</td>\n",
              "      <td>0.40</td>\n",
              "    </tr>\n",
              "  </tbody>\n",
              "</table>\n",
              "</div>"
            ],
            "text/plain": [
              "  categoria max              equipos max  publico max          dia  coef\n",
              "0            CC         Osasuna vs Eibar     470000.0  viernes_20h  0.40\n",
              "1            BC    Atlético  vs  Leganés     750000.0   sabado_12h  0.55\n",
              "2            BB       Athletic vs Alaves     900000.0   sabado_16h  0.70\n",
              "3            BB      Espanyol vs Sevilla     900000.0   sabado_18h  0.80\n",
              "4            AA  R.Sociedad vs Barcelona    2000000.0   sabado_20h  1.00\n",
              "5            BC   Villareal  vs  Granada     750000.0  domingo_12h  0.45\n",
              "6            BB          Getafe vs Celta     900000.0  domingo_16h  0.75\n",
              "7            BB         Levante vs Betis     900000.0  domingo_18h  0.85\n",
              "8            AB  Real Madrid vs Valencia    1300000.0  domingo_20h  1.00\n",
              "9            CC   Mallorca vs Valladolid     470000.0    lunes_20h  0.40"
            ]
          },
          "metadata": {
            "tags": []
          },
          "execution_count": 248
        }
      ]
    },
    {
      "cell_type": "markdown",
      "metadata": {
        "colab_type": "text",
        "id": "tgrnsC2nkFa8"
      },
      "source": [
        "# Calcula la complejidad del algoritmo por fuerza bruta"
      ]
    },
    {
      "cell_type": "markdown",
      "metadata": {
        "colab_type": "text",
        "id": "9eUd3xwckP68"
      },
      "source": [
        "# Respuesta"
      ]
    },
    {
      "cell_type": "markdown",
      "metadata": {
        "id": "dU0OlzLEUqgI",
        "colab_type": "text"
      },
      "source": [
        "La complejidad es del tipo O(n²) ya que recorremos dos bucles for para ver todas las posibilidades por fuerza bruta."
      ]
    },
    {
      "cell_type": "markdown",
      "metadata": {
        "colab_type": "text",
        "id": "txbrmLmskReM"
      },
      "source": [
        "# (*)Diseña un algoritmo que mejore la complejidad del algortimo por fuerza bruta. Argumenta porque crees que mejora el algoritmo por fuerza bruta"
      ]
    },
    {
      "cell_type": "markdown",
      "metadata": {
        "id": "qwgjAjhrUqgM",
        "colab_type": "text"
      },
      "source": [
        "Como se puede observar en el algoritmo por fuerza bruta, la jornada con más audiencia es aquella en la que se asigna el máximo número de público al máximo coeficiente. Por lo tanto se tendría simplemente que ordenar la columna de público máximo y de coeficiente máximo mediante un algoritmo quick-short"
      ]
    },
    {
      "cell_type": "markdown",
      "metadata": {
        "colab_type": "text",
        "id": "hLrVwt5QkZPD"
      },
      "source": [
        "# Respuesta"
      ]
    },
    {
      "cell_type": "code",
      "metadata": {
        "colab_type": "code",
        "id": "m1eyM21Vkabg",
        "colab": {},
        "outputId": "648a30e3-42af-4d9e-eb00-46dca128ce67"
      },
      "source": [
        "@calcular_tiempo\n",
        "def quick_sort(df, col):  #Algoritmo quicksort visto en clase en la AG1 pero con la modificación de no usar un list al final\n",
        "\n",
        "    if len(df) == 1: #Cuando solo quede un valor a la izq devolveremos el valor, ya que significa que es el más grande\n",
        "        return df\n",
        "  \n",
        "    elif len(df) == 2: #Cuando queden dos valores a la izq devolveremos el máximo de ambos primero y luego el menor\n",
        "    \n",
        "        if df.iloc(axis=0)[0][col] > df.iloc(axis=0)[1][col]: #Si es mayor\n",
        "            return df\n",
        "        else:\n",
        "            return pd.DataFrame([df.iloc(axis=0)[1], df.iloc(axis=0)[0]])\n",
        "    \n",
        "    else: #Si el df contiene más de dos valores\n",
        "        izq = pd.DataFrame(columns=df.columns) #Creamos el df izq\n",
        "        der = pd.DataFrame(columns=df.columns) #Creamos el df der\n",
        "\n",
        "        pivote = (df.loc(axis =1)[col].sum())/len(df) # Calculamos el pivote haciendo la media de la columna a ordenar\n",
        "\n",
        "        for i in range(len(df)): #Recorremos la columna\n",
        "\n",
        "            if df.iloc(axis=0)[i][col] >= pivote: #Si es mayor o igual que el pivote lo mandamos a la izquierda\n",
        "                izq = izq.append(df.iloc(axis=0)[i]) #Lo añadimos a la izquierda\n",
        "        \n",
        "            else: #Si es menor que el pivote lo mandamos a la derecha\n",
        "                der = der.append(df.iloc(axis=0)[i])\n",
        "        \n",
        "\n",
        "        if len(izq)!=0 and len(der)!=0: #Mientras haya valores por ordenar a izquierda o derecha haremos una recursividad para ir ordenandolos cuantas veces sea necesario\n",
        "      \n",
        "            df_I = quick_sort(izq,col) #ordenamos los valores a la izquierda\n",
        "            df_D = quick_sort(der,col) #ordenamos los valores a la derecha\n",
        "      \n",
        "            return  df_I.append(df_D) #devolvemos el df concatenado de izquierda a derecha\n",
        "    \n",
        "        else:\n",
        "            return df\n",
        "        \n",
        "coef_ord = quick_sort(horarios,'coef') #Ordenamos los coeficientes de los horarios\n",
        "equipos_ord = quick_sort(jornada,'publico') #Ordenamos las categorías de los partidos\n",
        "\n",
        "equipos_ord.index = coef_ord.index #Igualamos los indices para concatenarlos\n",
        "\n",
        "equipos_ord[['dia','coef']] = coef_ord #Concatenamos las tablas\n",
        "equipos_ord"
      ],
      "execution_count": 0,
      "outputs": [
        {
          "output_type": "stream",
          "text": [
            "Tiempo transcurrido (en segundos): 0.0060002803802490234\n",
            "Tiempo transcurrido (en segundos): 0.0010001659393310547\n",
            "Tiempo transcurrido (en segundos): 0.04600262641906738\n",
            "Tiempo transcurrido (en segundos): 0.0030002593994140625\n",
            "Tiempo transcurrido (en segundos): 0.0\n",
            "Tiempo transcurrido (en segundos): 0.04600238800048828\n",
            "Tiempo transcurrido (en segundos): 0.15100860595703125\n",
            "Tiempo transcurrido (en segundos): 0.0\n",
            "Tiempo transcurrido (en segundos): 0.0\n",
            "Tiempo transcurrido (en segundos): 0.005000591278076172\n",
            "Tiempo transcurrido (en segundos): 0.039002418518066406\n",
            "Tiempo transcurrido (en segundos): 0.08000445365905762\n",
            "Tiempo transcurrido (en segundos): 0.3280186653137207\n",
            "Tiempo transcurrido (en segundos): 0.002000093460083008\n",
            "Tiempo transcurrido (en segundos): 0.04800248146057129\n",
            "Tiempo transcurrido (en segundos): 0.0070002079010009766\n",
            "Tiempo transcurrido (en segundos): 0.009000301361083984\n",
            "Tiempo transcurrido (en segundos): 0.08600497245788574\n",
            "Tiempo transcurrido (en segundos): 0.24301385879516602\n",
            "Tiempo transcurrido (en segundos): 0.37302136421203613\n"
          ],
          "name": "stdout"
        },
        {
          "output_type": "execute_result",
          "data": {
            "text/html": [
              "<div>\n",
              "<style scoped>\n",
              "    .dataframe tbody tr th:only-of-type {\n",
              "        vertical-align: middle;\n",
              "    }\n",
              "\n",
              "    .dataframe tbody tr th {\n",
              "        vertical-align: top;\n",
              "    }\n",
              "\n",
              "    .dataframe thead th {\n",
              "        text-align: right;\n",
              "    }\n",
              "</style>\n",
              "<table border=\"1\" class=\"dataframe\">\n",
              "  <thead>\n",
              "    <tr style=\"text-align: right;\">\n",
              "      <th></th>\n",
              "      <th>categoria</th>\n",
              "      <th>publico</th>\n",
              "      <th>equipos</th>\n",
              "      <th>dia</th>\n",
              "      <th>coef</th>\n",
              "    </tr>\n",
              "  </thead>\n",
              "  <tbody>\n",
              "    <tr>\n",
              "      <th>8</th>\n",
              "      <td>AA</td>\n",
              "      <td>2000000.0</td>\n",
              "      <td>R.Sociedad vs Barcelona</td>\n",
              "      <td>domingo_20h</td>\n",
              "      <td>1.00</td>\n",
              "    </tr>\n",
              "    <tr>\n",
              "      <th>4</th>\n",
              "      <td>AB</td>\n",
              "      <td>1300000.0</td>\n",
              "      <td>Real Madrid vs Valencia</td>\n",
              "      <td>sabado_20h</td>\n",
              "      <td>1.00</td>\n",
              "    </tr>\n",
              "    <tr>\n",
              "      <th>7</th>\n",
              "      <td>BB</td>\n",
              "      <td>900000.0</td>\n",
              "      <td>Athletic vs Alaves</td>\n",
              "      <td>domingo_18h</td>\n",
              "      <td>0.85</td>\n",
              "    </tr>\n",
              "    <tr>\n",
              "      <th>3</th>\n",
              "      <td>BB</td>\n",
              "      <td>900000.0</td>\n",
              "      <td>Espanyol vs Sevilla</td>\n",
              "      <td>sabado_18h</td>\n",
              "      <td>0.80</td>\n",
              "    </tr>\n",
              "    <tr>\n",
              "      <th>6</th>\n",
              "      <td>BB</td>\n",
              "      <td>900000.0</td>\n",
              "      <td>Getafe vs Celta</td>\n",
              "      <td>domingo_16h</td>\n",
              "      <td>0.75</td>\n",
              "    </tr>\n",
              "    <tr>\n",
              "      <th>2</th>\n",
              "      <td>BB</td>\n",
              "      <td>900000.0</td>\n",
              "      <td>Levante vs Betis</td>\n",
              "      <td>sabado_16h</td>\n",
              "      <td>0.70</td>\n",
              "    </tr>\n",
              "    <tr>\n",
              "      <th>1</th>\n",
              "      <td>BC</td>\n",
              "      <td>750000.0</td>\n",
              "      <td>Villareal  vs  Granada</td>\n",
              "      <td>sabado_12h</td>\n",
              "      <td>0.55</td>\n",
              "    </tr>\n",
              "    <tr>\n",
              "      <th>5</th>\n",
              "      <td>BC</td>\n",
              "      <td>750000.0</td>\n",
              "      <td>Atlético  vs  Leganés</td>\n",
              "      <td>domingo_12h</td>\n",
              "      <td>0.45</td>\n",
              "    </tr>\n",
              "    <tr>\n",
              "      <th>9</th>\n",
              "      <td>CC</td>\n",
              "      <td>470000.0</td>\n",
              "      <td>Mallorca vs Valladolid</td>\n",
              "      <td>lunes_20h</td>\n",
              "      <td>0.40</td>\n",
              "    </tr>\n",
              "    <tr>\n",
              "      <th>0</th>\n",
              "      <td>CC</td>\n",
              "      <td>470000.0</td>\n",
              "      <td>Osasuna vs Eibar</td>\n",
              "      <td>viernes_20h</td>\n",
              "      <td>0.40</td>\n",
              "    </tr>\n",
              "  </tbody>\n",
              "</table>\n",
              "</div>"
            ],
            "text/plain": [
              "  categoria    publico                  equipos          dia  coef\n",
              "8        AA  2000000.0  R.Sociedad vs Barcelona  domingo_20h  1.00\n",
              "4        AB  1300000.0  Real Madrid vs Valencia   sabado_20h  1.00\n",
              "7        BB   900000.0       Athletic vs Alaves  domingo_18h  0.85\n",
              "3        BB   900000.0      Espanyol vs Sevilla   sabado_18h  0.80\n",
              "6        BB   900000.0          Getafe vs Celta  domingo_16h  0.75\n",
              "2        BB   900000.0         Levante vs Betis   sabado_16h  0.70\n",
              "1        BC   750000.0   Villareal  vs  Granada   sabado_12h  0.55\n",
              "5        BC   750000.0    Atlético  vs  Leganés  domingo_12h  0.45\n",
              "9        CC   470000.0   Mallorca vs Valladolid    lunes_20h  0.40\n",
              "0        CC   470000.0         Osasuna vs Eibar  viernes_20h  0.40"
            ]
          },
          "metadata": {
            "tags": []
          },
          "execution_count": 249
        }
      ]
    },
    {
      "cell_type": "code",
      "metadata": {
        "id": "LsMqKF4HUqgi",
        "colab_type": "code",
        "colab": {},
        "outputId": "bab35fc9-dce1-4c90-9604-81fec0117337"
      },
      "source": [
        "result=0 #Variable para contar el número de espectadores\n",
        "for i in range(len(equipos_ord)):# recorremos la jornada\n",
        "    result+=equipos_ord.iloc(axis=0)[i]['coef']* (equipos_ord.iloc(axis=0)[i]['publico']) #multiplicamos la audiencia por el coeficiente de horario\n",
        "print(\"La maxima audiencia de la jornada será = \", result ,\"espectadores\") #Mostramos el resultado"
      ],
      "execution_count": 0,
      "outputs": [
        {
          "output_type": "stream",
          "text": [
            "La maxima audiencia de la jornada será =  7216000.0 espectadores\n"
          ],
          "name": "stdout"
        }
      ]
    },
    {
      "cell_type": "markdown",
      "metadata": {
        "id": "PP1H-2_VUqgu",
        "colab_type": "text"
      },
      "source": [
        "El algoritmo quick short mejora muchísimo al de fuerza bruta como vemos en el tiempo transcurrido como la diferencia es de apenas décimas de segundos con horas. Esto es debido a que la complejidad computacional es mucho menor tal y como veremos en el siguiente apartado"
      ]
    },
    {
      "cell_type": "markdown",
      "metadata": {
        "colab_type": "text",
        "id": "eGDB4K6uk1iN"
      },
      "source": [
        "# (*)Calcula la complejidad del algoritmo "
      ]
    },
    {
      "cell_type": "markdown",
      "metadata": {
        "colab_type": "text",
        "id": "NhpTh_BPk1ms"
      },
      "source": [
        "# Respuesta"
      ]
    },
    {
      "cell_type": "code",
      "metadata": {
        "colab_type": "code",
        "id": "nREzhkStlCq8",
        "colab": {}
      },
      "source": [
        "La complejidad del algoritmo quickshort es de O(n·log(n)) que es la que se utiliza para ordenar los coeficientes de los horarios y público de menor a mayor"
      ],
      "execution_count": 0,
      "outputs": []
    },
    {
      "cell_type": "markdown",
      "metadata": {
        "colab_type": "text",
        "id": "3M6QjTsSkmYe"
      },
      "source": [
        "# Según el problema (y tenga sentido), diseña un juego de datos de entrada aleatorios"
      ]
    },
    {
      "cell_type": "markdown",
      "metadata": {
        "colab_type": "text",
        "id": "Jc3_OlyNkvjZ"
      },
      "source": [
        "# Respuesta"
      ]
    },
    {
      "cell_type": "code",
      "metadata": {
        "colab_type": "code",
        "id": "sJ-N2etjkyWc",
        "colab": {},
        "outputId": "e0c3c084-de0b-45a4-beba-ca3dc48372d6"
      },
      "source": [
        "#Tal como hemos hecho anteriormente\n",
        "jornada_aleatoria = aleatorio(equipos)\n",
        "jornada_aleatoria"
      ],
      "execution_count": 0,
      "outputs": [
        {
          "output_type": "execute_result",
          "data": {
            "text/html": [
              "<div>\n",
              "<style scoped>\n",
              "    .dataframe tbody tr th:only-of-type {\n",
              "        vertical-align: middle;\n",
              "    }\n",
              "\n",
              "    .dataframe tbody tr th {\n",
              "        vertical-align: top;\n",
              "    }\n",
              "\n",
              "    .dataframe thead th {\n",
              "        text-align: right;\n",
              "    }\n",
              "</style>\n",
              "<table border=\"1\" class=\"dataframe\">\n",
              "  <thead>\n",
              "    <tr style=\"text-align: right;\">\n",
              "      <th></th>\n",
              "      <th>nombre</th>\n",
              "      <th>categoria</th>\n",
              "    </tr>\n",
              "  </thead>\n",
              "  <tbody>\n",
              "    <tr>\n",
              "      <th>6</th>\n",
              "      <td>Athletic</td>\n",
              "      <td>B</td>\n",
              "    </tr>\n",
              "    <tr>\n",
              "      <th>5</th>\n",
              "      <td>Eibar</td>\n",
              "      <td>C</td>\n",
              "    </tr>\n",
              "    <tr>\n",
              "      <th>3</th>\n",
              "      <td>R.Sociedad</td>\n",
              "      <td>A</td>\n",
              "    </tr>\n",
              "    <tr>\n",
              "      <th>0</th>\n",
              "      <td>Celta</td>\n",
              "      <td>B</td>\n",
              "    </tr>\n",
              "    <tr>\n",
              "      <th>9</th>\n",
              "      <td>Osasuna</td>\n",
              "      <td>C</td>\n",
              "    </tr>\n",
              "    <tr>\n",
              "      <th>12</th>\n",
              "      <td>Alaves</td>\n",
              "      <td>B</td>\n",
              "    </tr>\n",
              "    <tr>\n",
              "      <th>17</th>\n",
              "      <td>Valladolid</td>\n",
              "      <td>C</td>\n",
              "    </tr>\n",
              "    <tr>\n",
              "      <th>19</th>\n",
              "      <td>Getafe</td>\n",
              "      <td>B</td>\n",
              "    </tr>\n",
              "    <tr>\n",
              "      <th>10</th>\n",
              "      <td>Villareal</td>\n",
              "      <td>B</td>\n",
              "    </tr>\n",
              "    <tr>\n",
              "      <th>4</th>\n",
              "      <td>Mallorca</td>\n",
              "      <td>C</td>\n",
              "    </tr>\n",
              "    <tr>\n",
              "      <th>2</th>\n",
              "      <td>Valencia</td>\n",
              "      <td>B</td>\n",
              "    </tr>\n",
              "    <tr>\n",
              "      <th>1</th>\n",
              "      <td>Real Madrid</td>\n",
              "      <td>A</td>\n",
              "    </tr>\n",
              "    <tr>\n",
              "      <th>15</th>\n",
              "      <td>Sevilla</td>\n",
              "      <td>B</td>\n",
              "    </tr>\n",
              "    <tr>\n",
              "      <th>16</th>\n",
              "      <td>Betis</td>\n",
              "      <td>B</td>\n",
              "    </tr>\n",
              "    <tr>\n",
              "      <th>11</th>\n",
              "      <td>Granada</td>\n",
              "      <td>C</td>\n",
              "    </tr>\n",
              "    <tr>\n",
              "      <th>14</th>\n",
              "      <td>Espanyol</td>\n",
              "      <td>B</td>\n",
              "    </tr>\n",
              "    <tr>\n",
              "      <th>18</th>\n",
              "      <td>Atlético</td>\n",
              "      <td>B</td>\n",
              "    </tr>\n",
              "    <tr>\n",
              "      <th>13</th>\n",
              "      <td>Levante</td>\n",
              "      <td>B</td>\n",
              "    </tr>\n",
              "    <tr>\n",
              "      <th>7</th>\n",
              "      <td>Barcelona</td>\n",
              "      <td>A</td>\n",
              "    </tr>\n",
              "    <tr>\n",
              "      <th>8</th>\n",
              "      <td>Leganés</td>\n",
              "      <td>C</td>\n",
              "    </tr>\n",
              "  </tbody>\n",
              "</table>\n",
              "</div>"
            ],
            "text/plain": [
              "         nombre categoria\n",
              "6      Athletic         B\n",
              "5         Eibar         C\n",
              "3    R.Sociedad         A\n",
              "0         Celta         B\n",
              "9       Osasuna         C\n",
              "12       Alaves         B\n",
              "17   Valladolid         C\n",
              "19       Getafe         B\n",
              "10    Villareal         B\n",
              "4      Mallorca         C\n",
              "2      Valencia         B\n",
              "1   Real Madrid         A\n",
              "15      Sevilla         B\n",
              "16        Betis         B\n",
              "11      Granada         C\n",
              "14     Espanyol         B\n",
              "18     Atlético         B\n",
              "13      Levante         B\n",
              "7     Barcelona         A\n",
              "8       Leganés         C"
            ]
          },
          "metadata": {
            "tags": []
          },
          "execution_count": 255
        }
      ]
    },
    {
      "cell_type": "markdown",
      "metadata": {
        "colab_type": "text",
        "id": "zy5ZROmjlGo1"
      },
      "source": [
        "# Aplica el algoritmo al juego de datos generado"
      ]
    },
    {
      "cell_type": "markdown",
      "metadata": {
        "colab_type": "text",
        "id": "_Cmj-PVylMsa"
      },
      "source": [
        "\n",
        "# Respuesta"
      ]
    },
    {
      "cell_type": "code",
      "metadata": {
        "colab_type": "code",
        "id": "Jkx8GeiYlUz1",
        "colab": {}
      },
      "source": [
        "Ya se ha resuelto tanto en el algoritmo de fuerza bruta como en el de quick short"
      ],
      "execution_count": 0,
      "outputs": []
    },
    {
      "cell_type": "markdown",
      "metadata": {
        "colab_type": "text",
        "id": "eTFWUJQrtGcv"
      },
      "source": [
        "# Enumera las referencias que has utilizado(si ha sido necesario) para llevar a cabo el trabajo"
      ]
    },
    {
      "cell_type": "markdown",
      "metadata": {
        "colab_type": "text",
        "id": "YKQ_mRBttWsP"
      },
      "source": [
        "# Respuesta"
      ]
    },
    {
      "cell_type": "markdown",
      "metadata": {
        "id": "qdvF1G2KUqhg",
        "colab_type": "text"
      },
      "source": [
        "Las únicas referencias utilizadas han sido los apuntes de la asignatura de python y los apuntes de esta asignatura de algoritmos de optimización."
      ]
    },
    {
      "cell_type": "markdown",
      "metadata": {
        "colab_type": "text",
        "id": "kAkDPUyRtYyH"
      },
      "source": [
        "# Describe brevemente las lineas de como crees que es posible avanzar en el estudio del problema. Ten en cuenta incluso posibles variaciones del problema y/o variaciones al alza del tamaño"
      ]
    },
    {
      "cell_type": "markdown",
      "metadata": {
        "colab_type": "text",
        "id": "IE0uZmo-tZu-"
      },
      "source": [
        "# Respuesta"
      ]
    },
    {
      "cell_type": "markdown",
      "metadata": {
        "id": "HbsnIPdnUqho",
        "colab_type": "text"
      },
      "source": [
        "Una buena mejora sería hacer un algoritmo de ramificación y poda para eliminar opciones en el algoritmo por fuerza bruta y/o elegir un algoritmo de ordenación que mejorase el tiempo del quick short"
      ]
    }
  ]
}