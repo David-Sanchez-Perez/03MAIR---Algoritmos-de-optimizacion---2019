{
  "nbformat": 4,
  "nbformat_minor": 0,
  "metadata": {
    "colab": {
      "name": "David Sanchez - AG3.ipynb",
      "version": "0.3.2",
      "provenance": [],
      "include_colab_link": true
    },
    "kernelspec": {
      "name": "python3",
      "display_name": "Python 3"
    }
  },
  "cells": [
    {
      "cell_type": "markdown",
      "metadata": {
        "id": "view-in-github",
        "colab_type": "text"
      },
      "source": [
        "<a href=\"https://colab.research.google.com/github/David-Sanchez-Perez/03MAIR---Algoritmos-de-optimizacion---2019/blob/master/David_Sanchez_AG3.ipynb\" target=\"_parent\"><img src=\"https://colab.research.google.com/assets/colab-badge.svg\" alt=\"Open In Colab\"/></a>"
      ]
    },
    {
      "cell_type": "code",
      "metadata": {
        "id": "cWcz4pTD-F5e",
        "colab_type": "code",
        "colab": {}
      },
      "source": [
        "# AG3 - Activudad Guiada3\n",
        "# David Sánchez\n",
        "# https://colab.research.google.com/drive/1gss89Iqp_iI0d4UdOSw7yyik1aYMg7ys\n",
        "\n"
      ],
      "execution_count": 0,
      "outputs": []
    },
    {
      "cell_type": "code",
      "metadata": {
        "id": "udH0ck4PBBNP",
        "colab_type": "code",
        "colab": {}
      },
      "source": [
        "!pip install request"
      ],
      "execution_count": 0,
      "outputs": []
    },
    {
      "cell_type": "code",
      "metadata": {
        "id": "0QvY3eWjBIop",
        "colab_type": "code",
        "colab": {
          "base_uri": "https://localhost:8080/",
          "height": 34
        },
        "outputId": "4492e6e4-bf89-47bf-c680-f4c955ff0f10"
      },
      "source": [
        "import urllib.request\n",
        "file='swiss42.tsp'\n",
        "\n",
        "urllib.request.urlretrieve('http://elib.zib.de/pub/mp-testdata/tsp/tsplib/tsp/swiss42.tsp',file)\n"
      ],
      "execution_count": 38,
      "outputs": [
        {
          "output_type": "execute_result",
          "data": {
            "text/plain": [
              "('swiss42.tsp', <http.client.HTTPMessage at 0x7f2b7db0b278>)"
            ]
          },
          "metadata": {
            "tags": []
          },
          "execution_count": 38
        }
      ]
    },
    {
      "cell_type": "code",
      "metadata": {
        "id": "7fGXhxZxBtmY",
        "colab_type": "code",
        "colab": {}
      },
      "source": [
        "!pip install tsplib95"
      ],
      "execution_count": 0,
      "outputs": []
    },
    {
      "cell_type": "code",
      "metadata": {
        "id": "xpfdoNxMCEEm",
        "colab_type": "code",
        "colab": {}
      },
      "source": [
        "import tsplib95\n",
        "import random\n",
        "from math import e"
      ],
      "execution_count": 0,
      "outputs": []
    },
    {
      "cell_type": "code",
      "metadata": {
        "id": "1QGi0VbHCJ5K",
        "colab_type": "code",
        "colab": {
          "base_uri": "https://localhost:8080/",
          "height": 34
        },
        "outputId": "b3ba9e48-bee6-435e-a1c1-1dddd893ec96"
      },
      "source": [
        "problem=tsplib95.load_problem(file)\n",
        "\n",
        "Nodos=list(problem.get_nodes())\n",
        "Aristas=list (problem.get_edges())\n",
        "\n",
        "problem.wfunc(0,3)\n"
      ],
      "execution_count": 40,
      "outputs": [
        {
          "output_type": "execute_result",
          "data": {
            "text/plain": [
              "23"
            ]
          },
          "metadata": {
            "tags": []
          },
          "execution_count": 40
        }
      ]
    },
    {
      "cell_type": "code",
      "metadata": {
        "id": "Zo1ikxX8Cm6S",
        "colab_type": "code",
        "colab": {
          "base_uri": "https://localhost:8080/",
          "height": 54
        },
        "outputId": "0301727c-473a-4d9b-fa7d-f6ce9a4dc015"
      },
      "source": [
        "def distancia(a,b,problem):\n",
        "  return problem.wfunc(a,b)\n",
        "\n",
        "def crear_solucion(Nodos):\n",
        "  solucion=[0]\n",
        "  for i in range (len(Nodos)-1):\n",
        "    solucion = solucion + [random.choice(list(set(Nodos) - set({0}) - set(solucion)))]\n",
        "  return solucion\n",
        "\n",
        "def distancia_total(solucion,problem):\n",
        "  distancia_ret=0\n",
        "  for i in range (len(solucion)-1):\n",
        "    distancia_ret+=distancia(solucion[i],solucion[i+1],problem)\n",
        "  return distancia_ret+distancia(solucion[len(solucion)-1], solucion[0],problem)\n",
        "\n",
        "solucion_prueba=crear_solucion(Nodos)\n",
        "\n",
        "print(distancia_total(solucion_prueba,problem),solucion_prueba)"
      ],
      "execution_count": 41,
      "outputs": [
        {
          "output_type": "stream",
          "text": [
            "4765 [0, 22, 6, 21, 25, 19, 2, 18, 23, 3, 14, 9, 24, 8, 38, 4, 39, 26, 34, 12, 15, 31, 35, 17, 37, 28, 7, 5, 32, 41, 27, 10, 16, 1, 29, 40, 20, 36, 13, 30, 33, 11]\n"
          ],
          "name": "stdout"
        }
      ]
    },
    {
      "cell_type": "code",
      "metadata": {
        "id": "B0vwGR6UGJjv",
        "colab_type": "code",
        "colab": {
          "base_uri": "https://localhost:8080/",
          "height": 759
        },
        "outputId": "e65ef56a-fd68-4706-9277-bbcb292d1df4"
      },
      "source": [
        "def busqueda_aleatoria(problem,N):\n",
        "  Nodos=list(problem.get_nodes())\n",
        "  \n",
        "  mejor_solucion=[]\n",
        "  mejor_distancia=10e10\n",
        "  \n",
        "  for i in range(N):\n",
        "    solucion=crear_solucion(Nodos)\n",
        "    distancia_solucion=distancia_total(solucion,problem)\n",
        "    \n",
        "    if distancia_solucion<mejor_distancia:\n",
        "      mejor_solucion=solucion\n",
        "      mejor_distancia=distancia_solucion\n",
        "      \n",
        "  print(mejor_distancia,mejor_solucion)\n",
        "  return mejor_solucion\n",
        "\n",
        "busqueda_aleatoria(problem,5000)"
      ],
      "execution_count": 42,
      "outputs": [
        {
          "output_type": "stream",
          "text": [
            "3725 [0, 27, 19, 4, 18, 3, 5, 37, 35, 20, 33, 23, 29, 1, 17, 16, 13, 39, 40, 21, 28, 22, 9, 8, 34, 6, 7, 38, 11, 26, 32, 25, 24, 15, 36, 31, 14, 2, 12, 10, 41, 30]\n"
          ],
          "name": "stdout"
        },
        {
          "output_type": "execute_result",
          "data": {
            "text/plain": [
              "[0,\n",
              " 27,\n",
              " 19,\n",
              " 4,\n",
              " 18,\n",
              " 3,\n",
              " 5,\n",
              " 37,\n",
              " 35,\n",
              " 20,\n",
              " 33,\n",
              " 23,\n",
              " 29,\n",
              " 1,\n",
              " 17,\n",
              " 16,\n",
              " 13,\n",
              " 39,\n",
              " 40,\n",
              " 21,\n",
              " 28,\n",
              " 22,\n",
              " 9,\n",
              " 8,\n",
              " 34,\n",
              " 6,\n",
              " 7,\n",
              " 38,\n",
              " 11,\n",
              " 26,\n",
              " 32,\n",
              " 25,\n",
              " 24,\n",
              " 15,\n",
              " 36,\n",
              " 31,\n",
              " 14,\n",
              " 2,\n",
              " 12,\n",
              " 10,\n",
              " 41,\n",
              " 30]"
            ]
          },
          "metadata": {
            "tags": []
          },
          "execution_count": 42
        }
      ]
    },
    {
      "cell_type": "code",
      "metadata": {
        "id": "NLjJhZodHfF5",
        "colab_type": "code",
        "colab": {}
      },
      "source": [
        "def generar_vecina(solucion,problem):\n",
        "  mejor_solucion=[]\n",
        "  mejor_distancia=10e10\n",
        "  for i in range(1,len(solucion)-1):\n",
        "    for j in range (i+1,len(solucion)):\n",
        "      vecina = solucion[:i] + [solucion[j]] + solucion[i+1:j] + [solucion[i]] + solucion[j+1:]\n",
        "      distancia_vecina=distancia_total(vecina,problem)\n",
        "      if distancia_vecina<mejor_distancia:\n",
        "        mejor_solucion=vecina\n",
        "        mejor_distancia=distancia_vecina\n",
        "  return mejor_solucion"
      ],
      "execution_count": 0,
      "outputs": []
    },
    {
      "cell_type": "code",
      "metadata": {
        "id": "VExmAPtLIPRk",
        "colab_type": "code",
        "colab": {
          "base_uri": "https://localhost:8080/",
          "height": 759
        },
        "outputId": "facfb671-32ed-408c-e8d1-6b1959c9bdba"
      },
      "source": [
        "def busqueda_local(problem,N):\n",
        "  mejor_solucion=[]\n",
        "  mejor_distancia=10e10\n",
        "  \n",
        "  Nodos=list(problem.get_nodes())\n",
        "  \n",
        "  solucion_referencia=crear_solucion(Nodos)\n",
        "  \n",
        "  for i in range (N):\n",
        "    vecina=generar_vecina(solucion_referencia,problem)\n",
        "    distancia_vecina=distancia_total(vecina,problem)\n",
        "    if distancia_vecina<mejor_distancia:\n",
        "      mejor_solucion=vecina\n",
        "      mejor_distancia=distancia_vecina\n",
        "      \n",
        "    solucion_referencia=mejor_solucion\n",
        "    \n",
        "  print(distancia_total(mejor_solucion,problem),mejor_solucion)\n",
        "    \n",
        "  return mejor_solucion\n",
        "\n",
        "busqueda_local(problem,100)"
      ],
      "execution_count": 45,
      "outputs": [
        {
          "output_type": "stream",
          "text": [
            "1983 [0, 14, 16, 19, 13, 18, 10, 8, 29, 30, 28, 2, 1, 17, 31, 36, 35, 20, 27, 3, 4, 6, 5, 26, 12, 11, 25, 9, 22, 38, 32, 7, 15, 37, 33, 34, 39, 21, 24, 40, 23, 41]\n"
          ],
          "name": "stdout"
        },
        {
          "output_type": "execute_result",
          "data": {
            "text/plain": [
              "[0,\n",
              " 14,\n",
              " 16,\n",
              " 19,\n",
              " 13,\n",
              " 18,\n",
              " 10,\n",
              " 8,\n",
              " 29,\n",
              " 30,\n",
              " 28,\n",
              " 2,\n",
              " 1,\n",
              " 17,\n",
              " 31,\n",
              " 36,\n",
              " 35,\n",
              " 20,\n",
              " 27,\n",
              " 3,\n",
              " 4,\n",
              " 6,\n",
              " 5,\n",
              " 26,\n",
              " 12,\n",
              " 11,\n",
              " 25,\n",
              " 9,\n",
              " 22,\n",
              " 38,\n",
              " 32,\n",
              " 7,\n",
              " 15,\n",
              " 37,\n",
              " 33,\n",
              " 34,\n",
              " 39,\n",
              " 21,\n",
              " 24,\n",
              " 40,\n",
              " 23,\n",
              " 41]"
            ]
          },
          "metadata": {
            "tags": []
          },
          "execution_count": 45
        }
      ]
    },
    {
      "cell_type": "code",
      "metadata": {
        "id": "65aOu70-JuMt",
        "colab_type": "code",
        "colab": {}
      },
      "source": [
        "def probabilidad(T,d):\n",
        "  r=random.random()\n",
        "  \n",
        "  if r >= (e**(-1*d)/((T * .5*10**(-5))))  :\n",
        "    return True\n",
        "  else:\n",
        "    return False\n",
        "  \n",
        "def bajar_temperatura(T):\n",
        "  return T*0.9"
      ],
      "execution_count": 0,
      "outputs": []
    },
    {
      "cell_type": "code",
      "metadata": {
        "id": "PaY_HhO9KeSm",
        "colab_type": "code",
        "colab": {
          "base_uri": "https://localhost:8080/",
          "height": 759
        },
        "outputId": "2ae2459a-85dc-4c7c-a29e-03233161b6e8"
      },
      "source": [
        "def recocido_simulado(problem,TEMPERATURA):\n",
        "  solucion_referencia=crear_solucion(Nodos)\n",
        "  distancia_referencia=distancia_total(solucion_referencia,problem)\n",
        "  \n",
        "  mejor_solucion=[]\n",
        "  mejor_distancia=10e10\n",
        "  \n",
        "  while TEMPERATURA>1:\n",
        "    vecina=generar_vecina(solucion_referencia,problem)\n",
        "    distancia_vecina=distancia_total(vecina,problem)\n",
        "  \n",
        "    if distancia_vecina<mejor_distancia:\n",
        "      mejor_solucion=vecina\n",
        "      mejor_distancia=distancia_vecina\n",
        "\n",
        "    if distancia_vecina<distancia_referencia or probabilidad(TEMPERATURA,abs(distancia_referencia-distancia_vecina)):\n",
        "      solucion_referencia=vecina\n",
        "      distancia_referencia=distancia_vecina\n",
        "\n",
        "    TEMPERATURA=bajar_temperatura(TEMPERATURA) \n",
        "\n",
        "  print(mejor_distancia,mejor_solucion)\n",
        "  return mejor_solucion\n",
        "recocido_simulado(problem,1000)"
      ],
      "execution_count": 51,
      "outputs": [
        {
          "output_type": "stream",
          "text": [
            "1745 [0, 7, 15, 37, 36, 35, 33, 34, 9, 21, 40, 24, 39, 22, 38, 20, 31, 17, 32, 30, 29, 8, 23, 41, 10, 25, 11, 13, 19, 16, 14, 1, 6, 5, 26, 18, 12, 4, 3, 2, 28, 27]\n"
          ],
          "name": "stdout"
        },
        {
          "output_type": "execute_result",
          "data": {
            "text/plain": [
              "[0,\n",
              " 7,\n",
              " 15,\n",
              " 37,\n",
              " 36,\n",
              " 35,\n",
              " 33,\n",
              " 34,\n",
              " 9,\n",
              " 21,\n",
              " 40,\n",
              " 24,\n",
              " 39,\n",
              " 22,\n",
              " 38,\n",
              " 20,\n",
              " 31,\n",
              " 17,\n",
              " 32,\n",
              " 30,\n",
              " 29,\n",
              " 8,\n",
              " 23,\n",
              " 41,\n",
              " 10,\n",
              " 25,\n",
              " 11,\n",
              " 13,\n",
              " 19,\n",
              " 16,\n",
              " 14,\n",
              " 1,\n",
              " 6,\n",
              " 5,\n",
              " 26,\n",
              " 18,\n",
              " 12,\n",
              " 4,\n",
              " 3,\n",
              " 2,\n",
              " 28,\n",
              " 27]"
            ]
          },
          "metadata": {
            "tags": []
          },
          "execution_count": 51
        }
      ]
    }
  ]
}