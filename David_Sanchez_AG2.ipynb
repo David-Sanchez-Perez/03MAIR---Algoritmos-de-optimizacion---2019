{
  "nbformat": 4,
  "nbformat_minor": 0,
  "metadata": {
    "colab": {
      "name": "David_Sanchez_AG2.ipynb",
      "version": "0.3.2",
      "provenance": [],
      "include_colab_link": true
    },
    "kernelspec": {
      "name": "python3",
      "display_name": "Python 3"
    }
  },
  "cells": [
    {
      "cell_type": "markdown",
      "metadata": {
        "id": "view-in-github",
        "colab_type": "text"
      },
      "source": [
        "<a href=\"https://colab.research.google.com/github/David-Sanchez-Perez/03MAIR---Algoritmos-de-optimizacion---2019/blob/master/David_Sanchez_AG2.ipynb\" target=\"_parent\"><img src=\"https://colab.research.google.com/assets/colab-badge.svg\" alt=\"Open In Colab\"/></a>"
      ]
    },
    {
      "cell_type": "code",
      "metadata": {
        "id": "XJ8ry5R3D3lY",
        "colab_type": "code",
        "colab": {}
      },
      "source": [
        "TARIFAS = [\n",
        "[0,5,4,3,999,999,999],\n",
        "[999,0,999,2,3,999,11],\n",
        "[999,999, 0,1,999,4,10],\n",
        "[999,999,999, 0,5,6,9],\n",
        "[999,999, 999,999,0,999,4],\n",
        "[999,999, 999,999,999,0,3],\n",
        "[999,999,999,999,999,999,0]\n",
        "]"
      ],
      "execution_count": 0,
      "outputs": []
    },
    {
      "cell_type": "code",
      "metadata": {
        "id": "XGkW-uC0D_AO",
        "colab_type": "code",
        "colab": {
          "base_uri": "https://localhost:8080/",
          "height": 87
        },
        "outputId": "44c84261-b8a0-45b0-f4e3-4eaccfefeab2"
      },
      "source": [
        "def Precios(TARIFAS):\n",
        "  \n",
        "  N= len(TARIFAS[0])\n",
        "  \n",
        "  PRECIOS = [[9999]*N for i in [9999]*N]\n",
        "  RUTA = [[\"\"]*N for i in [\"\"]*N]\n",
        "  \n",
        "  for i in range (N-1):\n",
        "    for j in range (i+1,N):\n",
        "      MIN=TARIFAS[i][j]\n",
        "      RUTA[i][j]=i\n",
        "      \n",
        "      for k in range (i,j):\n",
        "        if PRECIOS[i][k]+TARIFAS[k][j]<MIN:\n",
        "          MIN=PRECIOS[i][k]+TARIFAS[k][j]\n",
        "          RUTA[i][j]=k\n",
        "          \n",
        "      PRECIOS[i][j]=MIN\n",
        "      \n",
        "  return PRECIOS, RUTA\n",
        "\n",
        "PRECIOS,RUTA=Precios(TARIFAS)\n",
        "\n",
        "print (PRECIOS)\n",
        "print (RUTA)\n",
        "\n",
        "def calcular_ruta(RUTA, desde, hasta):\n",
        "  if desde == hasta:\n",
        "    return desde\n",
        "  else:\n",
        "    return str (calcular_ruta(RUTA,desde,RUTA[desde][hasta]))+'-'+str(RUTA[desde][hasta])\n",
        "\n",
        "calcular_ruta(RUTA,1,6)"
      ],
      "execution_count": 6,
      "outputs": [
        {
          "output_type": "stream",
          "text": [
            "[[9999, 5, 4, 3, 8, 8, 11], [9999, 9999, 999, 2, 3, 8, 7], [9999, 9999, 9999, 1, 6, 4, 7], [9999, 9999, 9999, 9999, 5, 6, 9], [9999, 9999, 9999, 9999, 9999, 999, 4], [9999, 9999, 9999, 9999, 9999, 9999, 3], [9999, 9999, 9999, 9999, 9999, 9999, 9999]]\n",
            "[['', 0, 0, 0, 1, 2, 5], ['', '', 1, 1, 1, 3, 4], ['', '', '', 2, 3, 2, 5], ['', '', '', '', 3, 3, 3], ['', '', '', '', '', 4, 4], ['', '', '', '', '', '', 5], ['', '', '', '', '', '', '']]\n"
          ],
          "name": "stdout"
        },
        {
          "output_type": "execute_result",
          "data": {
            "text/plain": [
              "'1-1-4'"
            ]
          },
          "metadata": {
            "tags": []
          },
          "execution_count": 6
        }
      ]
    },
    {
      "cell_type": "code",
      "metadata": {
        "id": "WUPmT1LYHnwv",
        "colab_type": "code",
        "colab": {}
      },
      "source": [
        "#Asignación de tareas. Ramificación y poda"
      ],
      "execution_count": 0,
      "outputs": []
    },
    {
      "cell_type": "code",
      "metadata": {
        "id": "-lTTlFUGIFkx",
        "colab_type": "code",
        "colab": {}
      },
      "source": [
        "import itertools\n",
        "from functools import wraps\n",
        "\n",
        "def calcular_tiempo(f):\n",
        "    @wraps(f)\n",
        "    def cronometro(*args, **kwargs):\n",
        "        t_inicial = time()\n",
        "        salida = f(*args, **kwargs)\n",
        "        t_final = time()\n",
        "        print('Tiempo transcurrido (en segundos): {}'.format(t_final - t_inicial))\n",
        "        return salida\n",
        "    return cronometro"
      ],
      "execution_count": 0,
      "outputs": []
    },
    {
      "cell_type": "code",
      "metadata": {
        "id": "hGOXoiXSHwxQ",
        "colab_type": "code",
        "colab": {}
      },
      "source": [
        "COSTES=[[11,12,18,40],\n",
        "        [14,15,13,22],\n",
        "        [11,17,19,23],\n",
        "        [17,14,20,28]]"
      ],
      "execution_count": 0,
      "outputs": []
    },
    {
      "cell_type": "code",
      "metadata": {
        "id": "K5xboP60H90l",
        "colab_type": "code",
        "colab": {
          "base_uri": "https://localhost:8080/",
          "height": 34
        },
        "outputId": "c0664278-a0bd-4a29-bb6c-5484605a7e7f"
      },
      "source": [
        "def valor(S,COSTES):\n",
        "  VALOR=0\n",
        "  for i in range(len(S)):\n",
        "    VALOR+=COSTES[S[i]][i]\n",
        "  \n",
        "  return VALOR\n",
        "\n"
      ],
      "execution_count": 17,
      "outputs": [
        {
          "output_type": "execute_result",
          "data": {
            "text/plain": [
              "69"
            ]
          },
          "metadata": {
            "tags": []
          },
          "execution_count": 17
        }
      ]
    },
    {
      "cell_type": "code",
      "metadata": {
        "id": "VN9uz-EpIygg",
        "colab_type": "code",
        "colab": {
          "base_uri": "https://localhost:8080/",
          "height": 34
        },
        "outputId": "b637cf32-21d0-4d17-b150-fe23f933fad8"
      },
      "source": [
        "def fuerza_bruta(COSTES):\n",
        "  mejor_valor=10e10\n",
        "  mejor_solucion=''\n",
        "  \n",
        "  for S in list(itertools.permutations(range(len(COSTES)))):\n",
        "    valor_tmp=valor(S,COSTES)\n",
        "    if valor_tmp<mejor_valor:\n",
        "      mejor_solucion=S\n",
        "      mejor_valor=valor_tmp\n",
        "      \n",
        "  print(\"La mejor solucion es:\",mejor_solucion)\n",
        "  \n",
        "fuerza_bruta(COSTES)"
      ],
      "execution_count": 27,
      "outputs": [
        {
          "output_type": "stream",
          "text": [
            "La mejor solucion es: (0, 3, 1, 2)\n"
          ],
          "name": "stdout"
        }
      ]
    },
    {
      "cell_type": "code",
      "metadata": {
        "id": "Pz0Wr_YVJVoO",
        "colab_type": "code",
        "colab": {
          "base_uri": "https://localhost:8080/",
          "height": 34
        },
        "outputId": "b8942729-648c-46ec-cd6d-bf94bf25ff1d"
      },
      "source": [
        "def CI(S,COSTES):\n",
        "  VALOR=0\n",
        "  \n",
        "  for i in range (len(S)):\n",
        "    VALOR+=COSTES[i][S[i]]\n",
        "    \n",
        "  #Estimaciones\n",
        "  for i in range (len(COSTES)):\n",
        "    if i not in S:\n",
        "      VALOR+=min([COSTES[j][i] for j in range(len(S),len(COSTES))])\n",
        "      \n",
        "  return VALOR\n",
        "\n",
        "def crear_hijos(NODO,N):\n",
        "  HIJOS=[]\n",
        "  for i in range (N):\n",
        "    if i not in NODO:\n",
        "      HIJOS.append({'s':NODO+(i,)})\n",
        "  \n",
        "  return (HIJOS)\n",
        "\n",
        "\n",
        "crear_hijos((0,2),4)\n",
        "  "
      ],
      "execution_count": 33,
      "outputs": [
        {
          "output_type": "execute_result",
          "data": {
            "text/plain": [
              "[{'s': (0, 2, 1)}, {'s': (0, 2, 3)}]"
            ]
          },
          "metadata": {
            "tags": []
          },
          "execution_count": 33
        }
      ]
    },
    {
      "cell_type": "code",
      "metadata": {
        "id": "j7oGVSxuNvyg",
        "colab_type": "code",
        "colab": {
          "base_uri": "https://localhost:8080/",
          "height": 759
        },
        "outputId": "b68f0395-b9fe-42f9-eb74-561f504aea25"
      },
      "source": [
        "def ramificacion_y_poda(COSTES):\n",
        "  DIMENSION=len(COSTES)\n",
        "  #(0,1,2,3)\n",
        "  MEJOR_SOLUCION= tuple (i for i in range (DIMENSION))\n",
        "  CotaSup=valor(MEJOR_SOLUCION,COSTES)\n",
        "  \n",
        "  NODOS=[]\n",
        "  NODOS.append({'s':(),'ci':CI((),COSTES)})\n",
        " \n",
        "  \n",
        "  #print(NODOS)\n",
        "  \n",
        "  iteracion=0\n",
        "  \n",
        "  while(len(NODOS)>0):\n",
        "    iteracion+=1\n",
        "    print('\\n#',iteracion)\n",
        "    nodo_prometedor=min(NODOS,key=lambda x:x['ci'])\n",
        "    \n",
        "    #Hijos\n",
        "    HIJOS=[{'s':x['s'], 'ci':CI(x['s'],COSTES)} for x in crear_hijos(nodo_prometedor['s'],DIMENSION)]\n",
        "    \n",
        "    NODO_FINAL=[x for x in HIJOS if len(x['s'])==DIMENSION]\n",
        "    if len(NODO_FINAL)>0:\n",
        "      if NODO_FINAL[0]['ci']<CotaSup:\n",
        "        CotaSup=NODO_FINAL[0]['ci']\n",
        "        MEJOR_SOLUCION = NODO_FINAL[0]\n",
        "    \n",
        "    #Poda\n",
        "    HIJOS=[x for x in HIJOS if x['ci'] < CotaSup]\n",
        "    #print(nodo_prometedor)\n",
        "    #Eliminamos el nodo expandido\n",
        "    NODOS=[x for x in NODOS if x['s']!= nodo_prometedor['s']]\n",
        "    \n",
        "    #Añadimos los hijos\n",
        "    NODOS.extend(HIJOS)\n",
        "    \n",
        "    print(NODOS)\n",
        "  print (\"La mejor solucion es:\", MEJOR_SOLUCION)\n",
        "\n",
        "\n",
        "  \n",
        "ramificacion_y_poda(COSTES)"
      ],
      "execution_count": 54,
      "outputs": [
        {
          "output_type": "stream",
          "text": [
            "\n",
            "# 1\n",
            "[{'s': (0,), 'ci': 60}, {'s': (1,), 'ci': 58}, {'s': (2,), 'ci': 65}]\n",
            "\n",
            "# 2\n",
            "[{'s': (0,), 'ci': 60}, {'s': (2,), 'ci': 65}, {'s': (1, 0), 'ci': 68}, {'s': (1, 2), 'ci': 59}, {'s': (1, 3), 'ci': 64}]\n",
            "\n",
            "# 3\n",
            "[{'s': (0,), 'ci': 60}, {'s': (2,), 'ci': 65}, {'s': (1, 0), 'ci': 68}, {'s': (1, 3), 'ci': 64}, {'s': (1, 2, 0), 'ci': 64}, {'s': (1, 2, 3), 'ci': 65}]\n",
            "\n",
            "# 4\n",
            "[{'s': (2,), 'ci': 65}, {'s': (1, 0), 'ci': 68}, {'s': (1, 3), 'ci': 64}, {'s': (1, 2, 0), 'ci': 64}, {'s': (1, 2, 3), 'ci': 65}, {'s': (0, 1), 'ci': 68}, {'s': (0, 2), 'ci': 61}, {'s': (0, 3), 'ci': 66}]\n",
            "\n",
            "# 5\n",
            "[{'s': (2,), 'ci': 65}, {'s': (1, 0), 'ci': 68}, {'s': (1, 3), 'ci': 64}, {'s': (1, 2, 0), 'ci': 64}, {'s': (1, 2, 3), 'ci': 65}, {'s': (0, 1), 'ci': 68}, {'s': (0, 3), 'ci': 66}, {'s': (0, 2, 1), 'ci': 69}, {'s': (0, 2, 3), 'ci': 61}]\n",
            "\n",
            "# 6\n",
            "[{'s': (2,), 'ci': 65}, {'s': (1, 0), 'ci': 68}, {'s': (1, 3), 'ci': 64}, {'s': (1, 2, 0), 'ci': 64}, {'s': (1, 2, 3), 'ci': 65}, {'s': (0, 1), 'ci': 68}, {'s': (0, 3), 'ci': 66}, {'s': (0, 2, 1), 'ci': 69}]\n",
            "\n",
            "# 7\n",
            "[{'s': (2,), 'ci': 65}, {'s': (1, 0), 'ci': 68}, {'s': (1, 2, 0), 'ci': 64}, {'s': (1, 2, 3), 'ci': 65}, {'s': (0, 1), 'ci': 68}, {'s': (0, 3), 'ci': 66}, {'s': (0, 2, 1), 'ci': 69}]\n",
            "\n",
            "# 8\n",
            "[{'s': (2,), 'ci': 65}, {'s': (1, 0), 'ci': 68}, {'s': (1, 2, 3), 'ci': 65}, {'s': (0, 1), 'ci': 68}, {'s': (0, 3), 'ci': 66}, {'s': (0, 2, 1), 'ci': 69}]\n",
            "\n",
            "# 9\n",
            "[{'s': (1, 0), 'ci': 68}, {'s': (1, 2, 3), 'ci': 65}, {'s': (0, 1), 'ci': 68}, {'s': (0, 3), 'ci': 66}, {'s': (0, 2, 1), 'ci': 69}]\n",
            "\n",
            "# 10\n",
            "[{'s': (1, 0), 'ci': 68}, {'s': (0, 1), 'ci': 68}, {'s': (0, 3), 'ci': 66}, {'s': (0, 2, 1), 'ci': 69}]\n",
            "\n",
            "# 11\n",
            "[{'s': (1, 0), 'ci': 68}, {'s': (0, 1), 'ci': 68}, {'s': (0, 2, 1), 'ci': 69}]\n",
            "\n",
            "# 12\n",
            "[{'s': (0, 1), 'ci': 68}, {'s': (0, 2, 1), 'ci': 69}]\n",
            "\n",
            "# 13\n",
            "[{'s': (0, 2, 1), 'ci': 69}]\n",
            "\n",
            "# 14\n",
            "[]\n",
            "La mejor solucion es: {'s': (0, 2, 3, 1), 'ci': 61}\n"
          ],
          "name": "stdout"
        }
      ]
    }
  ]
}