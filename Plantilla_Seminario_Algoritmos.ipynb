{
  "nbformat": 4,
  "nbformat_minor": 0,
  "metadata": {
    "colab": {
      "name": "Plantilla_Seminario_Algoritmos.ipynb",
      "provenance": [],
      "collapsed_sections": [],
      "include_colab_link": true
    },
    "kernelspec": {
      "name": "python3",
      "display_name": "Python 3"
    }
  },
  "cells": [
    {
      "cell_type": "markdown",
      "metadata": {
        "id": "view-in-github",
        "colab_type": "text"
      },
      "source": [
        "<a href=\"https://colab.research.google.com/github/David-Sanchez-Perez/03MAIR---Algoritmos-de-optimizacion---2019/blob/master/Plantilla_Seminario_Algoritmos.ipynb\" target=\"_parent\"><img src=\"https://colab.research.google.com/assets/colab-badge.svg\" alt=\"Open In Colab\"/></a>"
      ]
    },
    {
      "cell_type": "markdown",
      "metadata": {
        "id": "hVbXYX-RfPWh",
        "colab_type": "text"
      },
      "source": [
        "# Algoritmos de optimización - Seminario<br>\n",
        "Nombre y Apellidos: David Sánchez Pérez  <br>\n",
        "Url: https://github.com/.../03MAIR---Algoritmos-de-Optimizacion---2019/tree/master/SEMINARIO<br>\n",
        "Problema: Organizar los horarios de los partidos de La Liga\n",
        "> 1. Elección de grupos de población homogéneos <br>\n",
        ">2. Organizar los horarios de partidos de La Liga<br>\n",
        ">3. Combinar cifras y operaciones\n",
        "\n",
        "Desde la La Liga de fútbol profesional se pretende organizar los horarios de los partidos\n",
        "de liga de cada jornada. Se conocen algunos datos que nos deben llevar a diseñar un\n",
        "algoritmo que realice la asignación de los partidos a los horarios de forma que maximice\n",
        "la audiencia.\n",
        "• Los horarios disponibles se conocen a priori y son los siguientes:\n",
        "\n",
        "Viernes 20\n",
        "\n",
        "Sábado 12,16,18,20\n",
        "\n",
        "Domingo 12,16,18,20\n",
        "\n",
        "Lunes 20\n",
        "\n",
        "En primer lugar se clasifican los equipos en tres categorías según el numero de\n",
        "seguidores que tienen relación directa con la audiencia. Hay 4 equipos en la\n",
        "categoría A, 10 equipos de categoría B y 6 equipos de categoría C.\n",
        "• Se conoce estadisticamente la audiencia que genera cada partido según los equipos\n",
        "que se enfrentan y en horario de sábado a las 20h (el mejor en todos los casos)\n",
        "\n",
        "Categoría A Categoría B Categoría C\n",
        "\n",
        "Categoría A 2 Millones 1,3 Millones 1 Millones\n",
        "\n",
        "Categoría B 0.9 Millones 0.75 Millones\n",
        "\n",
        "Categoría C 0.47 Millones\n",
        "\n",
        "Si el horario del partido no se realiza a las 20 horas del sábado se sabe que se reduce\n",
        "según los coeficientes de la siguiente tabla\n",
        "• Debemos asignar obligatoriamente siempre un partido el viernes y un partido el lunes\n",
        "Viernes Sábado Domingo Lunes\n",
        "\n",
        "12h - 0.55 0.45 -\n",
        "\n",
        "16h - 0.7 0.75 -\n",
        "\n",
        "18h - 0.8 0.5 -\n",
        "\n",
        "20h 0.4 1 1 0.4\n",
        "\n",
        "Es posible la coincidencia de horarios pero en este\n",
        "caso la audiencia de cada partido se verá afectada y\n",
        "se estima que se reduce en porcentaje según la\n",
        "siguiente tabla dependiendo del número de\n",
        "coincidencias:\n",
        "\n",
        "Coincidencias -%\n",
        "\n",
        "0 0%\n",
        "\n",
        "1 25%\n",
        "\n",
        "2 45%\n",
        "\n",
        "3 60%\n",
        "\n",
        "4 70%\n",
        "\n",
        "5 75%\n",
        "\n",
        "6 78%\n",
        "\n",
        "7 80%\n",
        "\n",
        "8 80%\n",
        "\n",
        "\n",
        "\n",
        "(*) La respuesta es obligatoria\n",
        "\n",
        "\n",
        "Primero de todo vamos a guardar toda esta información en DataFrames\n",
        "                                        "
      ]
    },
    {
      "cell_type": "code",
      "metadata": {
        "id": "AiskKkzZfy4e",
        "colab_type": "code",
        "colab": {}
      },
      "source": [
        "# librerías que vamos a utilizar\n",
        "import pandas as pd\n",
        "import numpy as np"
      ],
      "execution_count": 0,
      "outputs": []
    },
    {
      "cell_type": "code",
      "metadata": {
        "id": "NRDxpOGlQrhx",
        "colab_type": "code",
        "colab": {
          "base_uri": "https://localhost:8080/",
          "height": 118
        },
        "outputId": "b32d22e0-2634-4034-c41e-efb5571a69ee"
      },
      "source": [
        "#Creamos un diccionario a partir de las categorías de los equipos y la audiencia que va a tener\n",
        "audiencia = {'AA':2e6,'AB':1.3e6,'AC':1e6,'BB':0.9e6,'BC':0.75e6,'CC':0.47e6} #Diccionario audiencia\n",
        "audiencia #Mostramos el diccionario"
      ],
      "execution_count": 4,
      "outputs": [
        {
          "output_type": "execute_result",
          "data": {
            "text/plain": [
              "{'AA': 2000000.0,\n",
              " 'AB': 1300000.0,\n",
              " 'AC': 1000000.0,\n",
              " 'BB': 900000.0,\n",
              " 'BC': 750000.0,\n",
              " 'CC': 470000.0}"
            ]
          },
          "metadata": {
            "tags": []
          },
          "execution_count": 4
        }
      ]
    },
    {
      "cell_type": "code",
      "metadata": {
        "id": "nO7sGE7FQucY",
        "colab_type": "code",
        "colab": {
          "base_uri": "https://localhost:8080/",
          "height": 343
        },
        "outputId": "4fad961e-4b75-4117-e87b-0aa9412fddfa"
      },
      "source": [
        "horarios = pd.DataFrame(columns=('dia','coef')) #Generamos un Dataframe con los horarios y el coeficiente de publico aplicado\n",
        "\n",
        "horarios.loc[0]=['viernes_20h',0.4] #Rellenamos el dataframe\n",
        "horarios.loc[1]=['sabado_12h',0.55]\n",
        "horarios.loc[2]=['sabado_16h',0.7]\n",
        "horarios.loc[3]=['sabado_18h',0.8]\n",
        "horarios.loc[4]=['sabado_20h',1]\n",
        "horarios.loc[5]=['domingo_12h',0.45]\n",
        "horarios.loc[6]=['domingo_16h',0.75]\n",
        "horarios.loc[7]=['domingo_18h',0.85]\n",
        "horarios.loc[8]=['domingo_20h',1]\n",
        "horarios.loc[9]=['lunes_20h',0.4]\n",
        "\n",
        "horarios"
      ],
      "execution_count": 5,
      "outputs": [
        {
          "output_type": "execute_result",
          "data": {
            "text/html": [
              "<div>\n",
              "<style scoped>\n",
              "    .dataframe tbody tr th:only-of-type {\n",
              "        vertical-align: middle;\n",
              "    }\n",
              "\n",
              "    .dataframe tbody tr th {\n",
              "        vertical-align: top;\n",
              "    }\n",
              "\n",
              "    .dataframe thead th {\n",
              "        text-align: right;\n",
              "    }\n",
              "</style>\n",
              "<table border=\"1\" class=\"dataframe\">\n",
              "  <thead>\n",
              "    <tr style=\"text-align: right;\">\n",
              "      <th></th>\n",
              "      <th>dia</th>\n",
              "      <th>coef</th>\n",
              "    </tr>\n",
              "  </thead>\n",
              "  <tbody>\n",
              "    <tr>\n",
              "      <th>0</th>\n",
              "      <td>viernes_20h</td>\n",
              "      <td>0.40</td>\n",
              "    </tr>\n",
              "    <tr>\n",
              "      <th>1</th>\n",
              "      <td>sabado_12h</td>\n",
              "      <td>0.55</td>\n",
              "    </tr>\n",
              "    <tr>\n",
              "      <th>2</th>\n",
              "      <td>sabado_16h</td>\n",
              "      <td>0.70</td>\n",
              "    </tr>\n",
              "    <tr>\n",
              "      <th>3</th>\n",
              "      <td>sabado_18h</td>\n",
              "      <td>0.80</td>\n",
              "    </tr>\n",
              "    <tr>\n",
              "      <th>4</th>\n",
              "      <td>sabado_20h</td>\n",
              "      <td>1.00</td>\n",
              "    </tr>\n",
              "    <tr>\n",
              "      <th>5</th>\n",
              "      <td>domingo_12h</td>\n",
              "      <td>0.45</td>\n",
              "    </tr>\n",
              "    <tr>\n",
              "      <th>6</th>\n",
              "      <td>domingo_16h</td>\n",
              "      <td>0.75</td>\n",
              "    </tr>\n",
              "    <tr>\n",
              "      <th>7</th>\n",
              "      <td>domingo_18h</td>\n",
              "      <td>0.85</td>\n",
              "    </tr>\n",
              "    <tr>\n",
              "      <th>8</th>\n",
              "      <td>domingo_20h</td>\n",
              "      <td>1.00</td>\n",
              "    </tr>\n",
              "    <tr>\n",
              "      <th>9</th>\n",
              "      <td>lunes_20h</td>\n",
              "      <td>0.40</td>\n",
              "    </tr>\n",
              "  </tbody>\n",
              "</table>\n",
              "</div>"
            ],
            "text/plain": [
              "           dia  coef\n",
              "0  viernes_20h  0.40\n",
              "1   sabado_12h  0.55\n",
              "2   sabado_16h  0.70\n",
              "3   sabado_18h  0.80\n",
              "4   sabado_20h  1.00\n",
              "5  domingo_12h  0.45\n",
              "6  domingo_16h  0.75\n",
              "7  domingo_18h  0.85\n",
              "8  domingo_20h  1.00\n",
              "9    lunes_20h  0.40"
            ]
          },
          "metadata": {
            "tags": []
          },
          "execution_count": 5
        }
      ]
    },
    {
      "cell_type": "code",
      "metadata": {
        "id": "W-r6UAlAQ7d_",
        "colab_type": "code",
        "colab": {
          "base_uri": "https://localhost:8080/",
          "height": 639
        },
        "outputId": "dd89b2f7-8d22-4dd1-e21e-1ce104b0f2e7"
      },
      "source": [
        "equipos = pd.DataFrame(columns=('nombre','categoria')) #Ahora generaremos un DataFrame con los equipos y su categoría\n",
        "\n",
        "equipos.loc[0]=['Celta','B'] #Rellenamos el dataframe\n",
        "equipos.loc[1]=['Real Madrid','A']\n",
        "equipos.loc[2]=['Valencia','B']\n",
        "equipos.loc[3]=['R.Sociedad','A']\n",
        "equipos.loc[4]=['Mallorca','C']\n",
        "equipos.loc[5]=['Eibar','C']\n",
        "equipos.loc[6]=['Athletic','B']\n",
        "equipos.loc[7]=['Barcelona','A']\n",
        "equipos.loc[8]=['Leganés','C']\n",
        "equipos.loc[9]=['Osasuna','C']\n",
        "equipos.loc[10]=['Villareal','B']\n",
        "equipos.loc[11]=['Granada','C']\n",
        "equipos.loc[12]=['Alaves','B']\n",
        "equipos.loc[13]=['Levante','B']\n",
        "equipos.loc[14]=['Espanyol','B']\n",
        "equipos.loc[15]=['Sevilla','B']\n",
        "equipos.loc[16]=['Betis','B']\n",
        "equipos.loc[17]=['Valladolid','C']\n",
        "equipos.loc[18]=['Atlético','B']\n",
        "equipos.loc[19]=['Getafe','B']\n",
        "\n",
        "equipos"
      ],
      "execution_count": 6,
      "outputs": [
        {
          "output_type": "execute_result",
          "data": {
            "text/html": [
              "<div>\n",
              "<style scoped>\n",
              "    .dataframe tbody tr th:only-of-type {\n",
              "        vertical-align: middle;\n",
              "    }\n",
              "\n",
              "    .dataframe tbody tr th {\n",
              "        vertical-align: top;\n",
              "    }\n",
              "\n",
              "    .dataframe thead th {\n",
              "        text-align: right;\n",
              "    }\n",
              "</style>\n",
              "<table border=\"1\" class=\"dataframe\">\n",
              "  <thead>\n",
              "    <tr style=\"text-align: right;\">\n",
              "      <th></th>\n",
              "      <th>nombre</th>\n",
              "      <th>categoria</th>\n",
              "    </tr>\n",
              "  </thead>\n",
              "  <tbody>\n",
              "    <tr>\n",
              "      <th>0</th>\n",
              "      <td>Celta</td>\n",
              "      <td>B</td>\n",
              "    </tr>\n",
              "    <tr>\n",
              "      <th>1</th>\n",
              "      <td>Real Madrid</td>\n",
              "      <td>A</td>\n",
              "    </tr>\n",
              "    <tr>\n",
              "      <th>2</th>\n",
              "      <td>Valencia</td>\n",
              "      <td>B</td>\n",
              "    </tr>\n",
              "    <tr>\n",
              "      <th>3</th>\n",
              "      <td>R.Sociedad</td>\n",
              "      <td>A</td>\n",
              "    </tr>\n",
              "    <tr>\n",
              "      <th>4</th>\n",
              "      <td>Mallorca</td>\n",
              "      <td>C</td>\n",
              "    </tr>\n",
              "    <tr>\n",
              "      <th>5</th>\n",
              "      <td>Eibar</td>\n",
              "      <td>C</td>\n",
              "    </tr>\n",
              "    <tr>\n",
              "      <th>6</th>\n",
              "      <td>Athletic</td>\n",
              "      <td>B</td>\n",
              "    </tr>\n",
              "    <tr>\n",
              "      <th>7</th>\n",
              "      <td>Barcelona</td>\n",
              "      <td>A</td>\n",
              "    </tr>\n",
              "    <tr>\n",
              "      <th>8</th>\n",
              "      <td>Leganés</td>\n",
              "      <td>C</td>\n",
              "    </tr>\n",
              "    <tr>\n",
              "      <th>9</th>\n",
              "      <td>Osasuna</td>\n",
              "      <td>C</td>\n",
              "    </tr>\n",
              "    <tr>\n",
              "      <th>10</th>\n",
              "      <td>Villareal</td>\n",
              "      <td>B</td>\n",
              "    </tr>\n",
              "    <tr>\n",
              "      <th>11</th>\n",
              "      <td>Granada</td>\n",
              "      <td>C</td>\n",
              "    </tr>\n",
              "    <tr>\n",
              "      <th>12</th>\n",
              "      <td>Alaves</td>\n",
              "      <td>B</td>\n",
              "    </tr>\n",
              "    <tr>\n",
              "      <th>13</th>\n",
              "      <td>Levante</td>\n",
              "      <td>B</td>\n",
              "    </tr>\n",
              "    <tr>\n",
              "      <th>14</th>\n",
              "      <td>Espanyol</td>\n",
              "      <td>B</td>\n",
              "    </tr>\n",
              "    <tr>\n",
              "      <th>15</th>\n",
              "      <td>Sevilla</td>\n",
              "      <td>B</td>\n",
              "    </tr>\n",
              "    <tr>\n",
              "      <th>16</th>\n",
              "      <td>Betis</td>\n",
              "      <td>B</td>\n",
              "    </tr>\n",
              "    <tr>\n",
              "      <th>17</th>\n",
              "      <td>Valladolid</td>\n",
              "      <td>C</td>\n",
              "    </tr>\n",
              "    <tr>\n",
              "      <th>18</th>\n",
              "      <td>Atlético</td>\n",
              "      <td>B</td>\n",
              "    </tr>\n",
              "    <tr>\n",
              "      <th>19</th>\n",
              "      <td>Getafe</td>\n",
              "      <td>B</td>\n",
              "    </tr>\n",
              "  </tbody>\n",
              "</table>\n",
              "</div>"
            ],
            "text/plain": [
              "         nombre categoria\n",
              "0         Celta         B\n",
              "1   Real Madrid         A\n",
              "2      Valencia         B\n",
              "3    R.Sociedad         A\n",
              "4      Mallorca         C\n",
              "5         Eibar         C\n",
              "6      Athletic         B\n",
              "7     Barcelona         A\n",
              "8       Leganés         C\n",
              "9       Osasuna         C\n",
              "10    Villareal         B\n",
              "11      Granada         C\n",
              "12       Alaves         B\n",
              "13      Levante         B\n",
              "14     Espanyol         B\n",
              "15      Sevilla         B\n",
              "16        Betis         B\n",
              "17   Valladolid         C\n",
              "18     Atlético         B\n",
              "19       Getafe         B"
            ]
          },
          "metadata": {
            "tags": []
          },
          "execution_count": 6
        }
      ]
    },
    {
      "cell_type": "code",
      "metadata": {
        "id": "t0Cug50URFeH",
        "colab_type": "code",
        "colab": {
          "base_uri": "https://localhost:8080/",
          "height": 639
        },
        "outputId": "fbe277cc-fe2b-4ea9-86c7-5b71d3639d0c"
      },
      "source": [
        "#Creamos una función para crear una jornada aleatoria\n",
        "def aleatorio(equipos):\n",
        "    df = equipos.iloc[np.random.permutation(len(equipos))] #ordenacion aleatoriaa través del módulo de numpy random permutation\n",
        "    return df\n",
        "jornada_aleatoria = aleatorio(equipos) #Llamada a función\n",
        "jornada_aleatoria"
      ],
      "execution_count": 7,
      "outputs": [
        {
          "output_type": "execute_result",
          "data": {
            "text/html": [
              "<div>\n",
              "<style scoped>\n",
              "    .dataframe tbody tr th:only-of-type {\n",
              "        vertical-align: middle;\n",
              "    }\n",
              "\n",
              "    .dataframe tbody tr th {\n",
              "        vertical-align: top;\n",
              "    }\n",
              "\n",
              "    .dataframe thead th {\n",
              "        text-align: right;\n",
              "    }\n",
              "</style>\n",
              "<table border=\"1\" class=\"dataframe\">\n",
              "  <thead>\n",
              "    <tr style=\"text-align: right;\">\n",
              "      <th></th>\n",
              "      <th>nombre</th>\n",
              "      <th>categoria</th>\n",
              "    </tr>\n",
              "  </thead>\n",
              "  <tbody>\n",
              "    <tr>\n",
              "      <th>8</th>\n",
              "      <td>Leganés</td>\n",
              "      <td>C</td>\n",
              "    </tr>\n",
              "    <tr>\n",
              "      <th>17</th>\n",
              "      <td>Valladolid</td>\n",
              "      <td>C</td>\n",
              "    </tr>\n",
              "    <tr>\n",
              "      <th>18</th>\n",
              "      <td>Atlético</td>\n",
              "      <td>B</td>\n",
              "    </tr>\n",
              "    <tr>\n",
              "      <th>10</th>\n",
              "      <td>Villareal</td>\n",
              "      <td>B</td>\n",
              "    </tr>\n",
              "    <tr>\n",
              "      <th>14</th>\n",
              "      <td>Espanyol</td>\n",
              "      <td>B</td>\n",
              "    </tr>\n",
              "    <tr>\n",
              "      <th>2</th>\n",
              "      <td>Valencia</td>\n",
              "      <td>B</td>\n",
              "    </tr>\n",
              "    <tr>\n",
              "      <th>19</th>\n",
              "      <td>Getafe</td>\n",
              "      <td>B</td>\n",
              "    </tr>\n",
              "    <tr>\n",
              "      <th>12</th>\n",
              "      <td>Alaves</td>\n",
              "      <td>B</td>\n",
              "    </tr>\n",
              "    <tr>\n",
              "      <th>15</th>\n",
              "      <td>Sevilla</td>\n",
              "      <td>B</td>\n",
              "    </tr>\n",
              "    <tr>\n",
              "      <th>1</th>\n",
              "      <td>Real Madrid</td>\n",
              "      <td>A</td>\n",
              "    </tr>\n",
              "    <tr>\n",
              "      <th>16</th>\n",
              "      <td>Betis</td>\n",
              "      <td>B</td>\n",
              "    </tr>\n",
              "    <tr>\n",
              "      <th>5</th>\n",
              "      <td>Eibar</td>\n",
              "      <td>C</td>\n",
              "    </tr>\n",
              "    <tr>\n",
              "      <th>9</th>\n",
              "      <td>Osasuna</td>\n",
              "      <td>C</td>\n",
              "    </tr>\n",
              "    <tr>\n",
              "      <th>3</th>\n",
              "      <td>R.Sociedad</td>\n",
              "      <td>A</td>\n",
              "    </tr>\n",
              "    <tr>\n",
              "      <th>6</th>\n",
              "      <td>Athletic</td>\n",
              "      <td>B</td>\n",
              "    </tr>\n",
              "    <tr>\n",
              "      <th>7</th>\n",
              "      <td>Barcelona</td>\n",
              "      <td>A</td>\n",
              "    </tr>\n",
              "    <tr>\n",
              "      <th>11</th>\n",
              "      <td>Granada</td>\n",
              "      <td>C</td>\n",
              "    </tr>\n",
              "    <tr>\n",
              "      <th>0</th>\n",
              "      <td>Celta</td>\n",
              "      <td>B</td>\n",
              "    </tr>\n",
              "    <tr>\n",
              "      <th>13</th>\n",
              "      <td>Levante</td>\n",
              "      <td>B</td>\n",
              "    </tr>\n",
              "    <tr>\n",
              "      <th>4</th>\n",
              "      <td>Mallorca</td>\n",
              "      <td>C</td>\n",
              "    </tr>\n",
              "  </tbody>\n",
              "</table>\n",
              "</div>"
            ],
            "text/plain": [
              "         nombre categoria\n",
              "8       Leganés         C\n",
              "17   Valladolid         C\n",
              "18     Atlético         B\n",
              "10    Villareal         B\n",
              "14     Espanyol         B\n",
              "2      Valencia         B\n",
              "19       Getafe         B\n",
              "12       Alaves         B\n",
              "15      Sevilla         B\n",
              "1   Real Madrid         A\n",
              "16        Betis         B\n",
              "5         Eibar         C\n",
              "9       Osasuna         C\n",
              "3    R.Sociedad         A\n",
              "6      Athletic         B\n",
              "7     Barcelona         A\n",
              "11      Granada         C\n",
              "0         Celta         B\n",
              "13      Levante         B\n",
              "4      Mallorca         C"
            ]
          },
          "metadata": {
            "tags": []
          },
          "execution_count": 7
        }
      ]
    },
    {
      "cell_type": "code",
      "metadata": {
        "id": "xO8KEwj5RFt0",
        "colab_type": "code",
        "colab": {
          "base_uri": "https://localhost:8080/",
          "height": 343
        },
        "outputId": "0adacfb1-dec8-46ca-ee7e-150b256dab0f"
      },
      "source": [
        "#Creamos la tabla de enfrentamientos de la jornada\n",
        "def enfrentamientos(original):\n",
        "    df_jornada = pd.DataFrame(columns=('categoria','publico','equipos')) #Creamos otro dataframe para guardar la categoría de ambos partidos, el público y los equipos\n",
        "    #Luego lo concatenaremos con el horario\n",
        "    for i in range(0,len(original),2): #Recorremos el dataframe de la jornada aleatoria de dos en dos ya que los partidos son 1 vs 1\n",
        "        valor = original.iloc(axis=0)[i]['categoria'] #Guardamos el valor de categoría del equipo 1                        \n",
        "        valor_1 = original.iloc(axis=0)[i+1]['categoria'] #Guardamos el valor de categoría del equipo 2\n",
        "        if valor < valor_1: #Si el equipo 1 tiene menor categoría que el equipo 2\n",
        "            cat = valor + valor_1 #Sumamos la categoría\n",
        "            aud= audiencia[cat] #el público total viene definido en el diccionario audiencia que creamos antes\n",
        "            partido = original.iloc(axis=0)[i]['nombre'] + '  vs  '+ original.iloc(axis=0)[i+1]['nombre']# columna para poner los partidos\n",
        "        else:#Si el equipo 1 tiene mayor categoría que el equipo 2\n",
        "            cat = valor_1 + valor # Hacemos lo mismo que anteriormente\n",
        "            aud= audiencia[cat]\n",
        "            partido = original.iloc(axis=0)[i+1]['nombre'] + ' vs '+ original.iloc(axis=0)[i]['nombre']\n",
        "\n",
        "        # Rellenamos el dataframe con las filas generadas\n",
        "        df_jornada.loc[len(df_jornada)]=[cat,aud,partido]\n",
        "    \n",
        "    return df_jornada\n",
        "        \n",
        "jornada = enfrentamientos(jornada_aleatoria) #Llamada a función\n",
        "jornada"
      ],
      "execution_count": 8,
      "outputs": [
        {
          "output_type": "execute_result",
          "data": {
            "text/html": [
              "<div>\n",
              "<style scoped>\n",
              "    .dataframe tbody tr th:only-of-type {\n",
              "        vertical-align: middle;\n",
              "    }\n",
              "\n",
              "    .dataframe tbody tr th {\n",
              "        vertical-align: top;\n",
              "    }\n",
              "\n",
              "    .dataframe thead th {\n",
              "        text-align: right;\n",
              "    }\n",
              "</style>\n",
              "<table border=\"1\" class=\"dataframe\">\n",
              "  <thead>\n",
              "    <tr style=\"text-align: right;\">\n",
              "      <th></th>\n",
              "      <th>categoria</th>\n",
              "      <th>publico</th>\n",
              "      <th>equipos</th>\n",
              "    </tr>\n",
              "  </thead>\n",
              "  <tbody>\n",
              "    <tr>\n",
              "      <th>0</th>\n",
              "      <td>CC</td>\n",
              "      <td>470000.0</td>\n",
              "      <td>Valladolid vs Leganés</td>\n",
              "    </tr>\n",
              "    <tr>\n",
              "      <th>1</th>\n",
              "      <td>BB</td>\n",
              "      <td>900000.0</td>\n",
              "      <td>Villareal vs Atlético</td>\n",
              "    </tr>\n",
              "    <tr>\n",
              "      <th>2</th>\n",
              "      <td>BB</td>\n",
              "      <td>900000.0</td>\n",
              "      <td>Valencia vs Espanyol</td>\n",
              "    </tr>\n",
              "    <tr>\n",
              "      <th>3</th>\n",
              "      <td>BB</td>\n",
              "      <td>900000.0</td>\n",
              "      <td>Alaves vs Getafe</td>\n",
              "    </tr>\n",
              "    <tr>\n",
              "      <th>4</th>\n",
              "      <td>AB</td>\n",
              "      <td>1300000.0</td>\n",
              "      <td>Real Madrid vs Sevilla</td>\n",
              "    </tr>\n",
              "    <tr>\n",
              "      <th>5</th>\n",
              "      <td>BC</td>\n",
              "      <td>750000.0</td>\n",
              "      <td>Betis  vs  Eibar</td>\n",
              "    </tr>\n",
              "    <tr>\n",
              "      <th>6</th>\n",
              "      <td>AC</td>\n",
              "      <td>1000000.0</td>\n",
              "      <td>R.Sociedad vs Osasuna</td>\n",
              "    </tr>\n",
              "    <tr>\n",
              "      <th>7</th>\n",
              "      <td>AB</td>\n",
              "      <td>1300000.0</td>\n",
              "      <td>Barcelona vs Athletic</td>\n",
              "    </tr>\n",
              "    <tr>\n",
              "      <th>8</th>\n",
              "      <td>BC</td>\n",
              "      <td>750000.0</td>\n",
              "      <td>Celta vs Granada</td>\n",
              "    </tr>\n",
              "    <tr>\n",
              "      <th>9</th>\n",
              "      <td>BC</td>\n",
              "      <td>750000.0</td>\n",
              "      <td>Levante  vs  Mallorca</td>\n",
              "    </tr>\n",
              "  </tbody>\n",
              "</table>\n",
              "</div>"
            ],
            "text/plain": [
              "  categoria    publico                 equipos\n",
              "0        CC   470000.0   Valladolid vs Leganés\n",
              "1        BB   900000.0   Villareal vs Atlético\n",
              "2        BB   900000.0    Valencia vs Espanyol\n",
              "3        BB   900000.0        Alaves vs Getafe\n",
              "4        AB  1300000.0  Real Madrid vs Sevilla\n",
              "5        BC   750000.0        Betis  vs  Eibar\n",
              "6        AC  1000000.0   R.Sociedad vs Osasuna\n",
              "7        AB  1300000.0   Barcelona vs Athletic\n",
              "8        BC   750000.0        Celta vs Granada\n",
              "9        BC   750000.0   Levante  vs  Mallorca"
            ]
          },
          "metadata": {
            "tags": []
          },
          "execution_count": 8
        }
      ]
    },
    {
      "cell_type": "code",
      "metadata": {
        "id": "acBlKB9LRF8m",
        "colab_type": "code",
        "colab": {}
      },
      "source": [
        ""
      ],
      "execution_count": 0,
      "outputs": []
    },
    {
      "cell_type": "markdown",
      "metadata": {
        "id": "3_-exlrTgLd-",
        "colab_type": "text"
      },
      "source": [
        "#**(*)¿Cuantas posibilidades hay sin tener en cuenta las restricciones?<br>**\n",
        "\n",
        "\n",
        "#¿Cuantas posibilidades hay teniendo en cuenta todas las restricciones. \n",
        "\n",
        "\n"
      ]
    },
    {
      "cell_type": "markdown",
      "metadata": {
        "id": "WfCUqJyKhPcw",
        "colab_type": "text"
      },
      "source": [
        "**Respuesta**"
      ]
    },
    {
      "cell_type": "markdown",
      "metadata": {
        "id": "rFfXBi_WWdWk",
        "colab_type": "text"
      },
      "source": [
        "Sin tener en cuenta las restricciones, al haber 20 equipos significa que se jugarán 10 partidos, por lo tanto las posibilidades son 10.\n",
        "\n",
        "En cambio, con restricciones, para resolver este problema tenemos que tener en cuenta dos cosas:\n",
        "    - coeficientes de equipos con mayor categoría\n",
        "    - coeficientes de los horarios con mejores audiencias\n",
        "Por lo tanto para resolver este problema, simplemente hay que ordenar estos dos coeficientes de mayor a menos y así obtener la mayor audiencia posible. Una parte importante a tener en cuenta es que descartamos la posibilidad de repetir horario, ya que como el partido con mayor categoría va a ser el que esté colocado en mejor horario, si ponemos otro partido a la vez nos quitaría mucha audiencia.\n",
        "\n",
        "Por lo tanto, para resolver este problema vamos a realizar un algoritmo de ordenación de coeficientes, el cuál en el peor de los casos va a ser O(n^2). El número posible de soluciones es N!"
      ]
    },
    {
      "cell_type": "markdown",
      "metadata": {
        "id": "dzynfVJahHoY",
        "colab_type": "text"
      },
      "source": [
        "#**Modelo para el espacio de soluciones<br>**\n",
        "#(*) ¿Cual es la estructura de datos que mejor se adapta al problema? Argumentalo.(Es posible que hayas elegido una al principio y veas la necesidad de cambiar, arguentalo)\n"
      ]
    },
    {
      "cell_type": "markdown",
      "metadata": {
        "id": "xFIJrOwKi2Ti",
        "colab_type": "text"
      },
      "source": [
        "**Respuesta**"
      ]
    },
    {
      "cell_type": "markdown",
      "metadata": {
        "id": "Uq6QUZA9Yp5L",
        "colab_type": "text"
      },
      "source": [
        "Como vamos a tener que almacenar datos en un DataFrame vamos a utilizar Pandas y para realizar operaciones matemáticas utilizaremos Numpy"
      ]
    },
    {
      "cell_type": "markdown",
      "metadata": {
        "id": "7Z9U2W7bi-XS",
        "colab_type": "text"
      },
      "source": [
        "#**Según el modelo para el espacio de soluciones<br>**\n",
        "# (*)¿Cual es la función objetivo?\n",
        "# (*)¿Es un problema de maximización o minimización?"
      ]
    },
    {
      "cell_type": "markdown",
      "metadata": {
        "id": "hBalWLM7j1_d",
        "colab_type": "text"
      },
      "source": [
        "**Respuesta**"
      ]
    },
    {
      "cell_type": "markdown",
      "metadata": {
        "id": "glpVV4IVfZd_",
        "colab_type": "text"
      },
      "source": [
        "La función objetivo es de tipo lineal:\n",
        "f(x1,...,xn)= h1·x1 + ... + hn·xn\n",
        "Siendo x las audiencias de los partidos según la categoría y h el coeficiente según el horario\n",
        "\n",
        "El problema es de maximicación porque tal y como se ha explicado en el apartado anterior, se busca que la audiencia de cada jornada sea máxima"
      ]
    },
    {
      "cell_type": "markdown",
      "metadata": {
        "id": "rlnTYgY1j6I2",
        "colab_type": "text"
      },
      "source": [
        "# Diseña un algoritmo para resolver el problema por fuerza bruta"
      ]
    },
    {
      "cell_type": "markdown",
      "metadata": {
        "id": "70rDgxYXkC8r",
        "colab_type": "text"
      },
      "source": [
        "**Respuesta**"
      ]
    },
    {
      "cell_type": "code",
      "metadata": {
        "id": "CJb5sQ0qkENy",
        "colab_type": "code",
        "colab": {
          "base_uri": "https://localhost:8080/",
          "height": 343
        },
        "outputId": "183e6e95-3fff-43bc-c5a8-d81e28f8dfd1"
      },
      "source": [
        "def orden(df,col,boolean): #Función para ordenar por fuerza bruta la categoría y los horarios\n",
        "    df_copia = df.copy() #Generamos un dataframe copia\n",
        "\n",
        "    for i in range(len(df)): #Recorremos el data frame en busca del valor \n",
        "        val_min = i # Almacenaremos el indice del menor valor\n",
        "    \n",
        "        for j in range(i+1,len(df)): #Para comparar el primer valor vs el resto\n",
        "            if (boolean==1): #Para ordenar los enfrentamientos de la jornada\n",
        "                if (df_copia.iloc(axis=0)[val_min][col] > df_copia.iloc(axis=0)[j][col]): #Si hay un valor con mejor categoría\n",
        "                    val_min = j #Guardamos la posición del valor mayor para colocarlo al principio\n",
        "            else: #Para ordenar los coeficientes de los horarios\n",
        "                if (df_copia.iloc(axis=0)[val_min][col] < df_copia.iloc(axis=0)[j][col]): #Hacemos lo mismo que antes\n",
        "                    val_min = j \n",
        "   \n",
        "        actual = df_copia.iloc(axis=0)[i].copy() #Copiamos el valor de la fila i (la primera)\n",
        "    \n",
        "        df_copia.loc[i] = df_copia.iloc(axis=0)[val_min] #Insertamos los valores de la fila con mayor categoría encontrado en la posición i\n",
        "\n",
        "        df_copia.loc[val_min] = actual #Los valores que ocupaban la fila i pasan al resto de filas por comparar\n",
        "\n",
        "    return df_copia\n",
        "\n",
        "equipos_ord = orden(jornada,'categoria',1) #Ordenamos los equipos por categorías\n",
        "coef_ord =orden(horarios, 'coef',0) #Ordenamos los horarios por coeficientes\n",
        "\n",
        "equipos_ord[['dia','coef']] = coef_ord #Concatenamos las tablas\n",
        "equipos_ord"
      ],
      "execution_count": 9,
      "outputs": [
        {
          "output_type": "execute_result",
          "data": {
            "text/html": [
              "<div>\n",
              "<style scoped>\n",
              "    .dataframe tbody tr th:only-of-type {\n",
              "        vertical-align: middle;\n",
              "    }\n",
              "\n",
              "    .dataframe tbody tr th {\n",
              "        vertical-align: top;\n",
              "    }\n",
              "\n",
              "    .dataframe thead th {\n",
              "        text-align: right;\n",
              "    }\n",
              "</style>\n",
              "<table border=\"1\" class=\"dataframe\">\n",
              "  <thead>\n",
              "    <tr style=\"text-align: right;\">\n",
              "      <th></th>\n",
              "      <th>categoria</th>\n",
              "      <th>publico</th>\n",
              "      <th>equipos</th>\n",
              "      <th>dia</th>\n",
              "      <th>coef</th>\n",
              "    </tr>\n",
              "  </thead>\n",
              "  <tbody>\n",
              "    <tr>\n",
              "      <th>0</th>\n",
              "      <td>AB</td>\n",
              "      <td>1300000.0</td>\n",
              "      <td>Real Madrid vs Sevilla</td>\n",
              "      <td>sabado_20h</td>\n",
              "      <td>1.00</td>\n",
              "    </tr>\n",
              "    <tr>\n",
              "      <th>1</th>\n",
              "      <td>AB</td>\n",
              "      <td>1300000.0</td>\n",
              "      <td>Barcelona vs Athletic</td>\n",
              "      <td>domingo_20h</td>\n",
              "      <td>1.00</td>\n",
              "    </tr>\n",
              "    <tr>\n",
              "      <th>2</th>\n",
              "      <td>AC</td>\n",
              "      <td>1000000.0</td>\n",
              "      <td>R.Sociedad vs Osasuna</td>\n",
              "      <td>domingo_18h</td>\n",
              "      <td>0.85</td>\n",
              "    </tr>\n",
              "    <tr>\n",
              "      <th>3</th>\n",
              "      <td>BB</td>\n",
              "      <td>900000.0</td>\n",
              "      <td>Alaves vs Getafe</td>\n",
              "      <td>sabado_18h</td>\n",
              "      <td>0.80</td>\n",
              "    </tr>\n",
              "    <tr>\n",
              "      <th>4</th>\n",
              "      <td>BB</td>\n",
              "      <td>900000.0</td>\n",
              "      <td>Valencia vs Espanyol</td>\n",
              "      <td>domingo_16h</td>\n",
              "      <td>0.75</td>\n",
              "    </tr>\n",
              "    <tr>\n",
              "      <th>5</th>\n",
              "      <td>BB</td>\n",
              "      <td>900000.0</td>\n",
              "      <td>Villareal vs Atlético</td>\n",
              "      <td>sabado_16h</td>\n",
              "      <td>0.70</td>\n",
              "    </tr>\n",
              "    <tr>\n",
              "      <th>6</th>\n",
              "      <td>BC</td>\n",
              "      <td>750000.0</td>\n",
              "      <td>Betis  vs  Eibar</td>\n",
              "      <td>sabado_12h</td>\n",
              "      <td>0.55</td>\n",
              "    </tr>\n",
              "    <tr>\n",
              "      <th>7</th>\n",
              "      <td>BC</td>\n",
              "      <td>750000.0</td>\n",
              "      <td>Celta vs Granada</td>\n",
              "      <td>domingo_12h</td>\n",
              "      <td>0.45</td>\n",
              "    </tr>\n",
              "    <tr>\n",
              "      <th>8</th>\n",
              "      <td>BC</td>\n",
              "      <td>750000.0</td>\n",
              "      <td>Levante  vs  Mallorca</td>\n",
              "      <td>viernes_20h</td>\n",
              "      <td>0.40</td>\n",
              "    </tr>\n",
              "    <tr>\n",
              "      <th>9</th>\n",
              "      <td>CC</td>\n",
              "      <td>470000.0</td>\n",
              "      <td>Valladolid vs Leganés</td>\n",
              "      <td>lunes_20h</td>\n",
              "      <td>0.40</td>\n",
              "    </tr>\n",
              "  </tbody>\n",
              "</table>\n",
              "</div>"
            ],
            "text/plain": [
              "  categoria    publico                 equipos          dia  coef\n",
              "0        AB  1300000.0  Real Madrid vs Sevilla   sabado_20h  1.00\n",
              "1        AB  1300000.0   Barcelona vs Athletic  domingo_20h  1.00\n",
              "2        AC  1000000.0   R.Sociedad vs Osasuna  domingo_18h  0.85\n",
              "3        BB   900000.0        Alaves vs Getafe   sabado_18h  0.80\n",
              "4        BB   900000.0    Valencia vs Espanyol  domingo_16h  0.75\n",
              "5        BB   900000.0   Villareal vs Atlético   sabado_16h  0.70\n",
              "6        BC   750000.0        Betis  vs  Eibar   sabado_12h  0.55\n",
              "7        BC   750000.0        Celta vs Granada  domingo_12h  0.45\n",
              "8        BC   750000.0   Levante  vs  Mallorca  viernes_20h  0.40\n",
              "9        CC   470000.0   Valladolid vs Leganés    lunes_20h  0.40"
            ]
          },
          "metadata": {
            "tags": []
          },
          "execution_count": 9
        }
      ]
    },
    {
      "cell_type": "markdown",
      "metadata": {
        "id": "tgrnsC2nkFa8",
        "colab_type": "text"
      },
      "source": [
        "# Calcula la complejidad del algoritmo por fuerza bruta"
      ]
    },
    {
      "cell_type": "markdown",
      "metadata": {
        "id": "9eUd3xwckP68",
        "colab_type": "text"
      },
      "source": [
        "**Respuesta**"
      ]
    },
    {
      "cell_type": "markdown",
      "metadata": {
        "id": "sROnYKCZfyq_",
        "colab_type": "text"
      },
      "source": [
        "La complejidad es O(n^2) ya que tenemos dos bucles for"
      ]
    },
    {
      "cell_type": "markdown",
      "metadata": {
        "id": "txbrmLmskReM",
        "colab_type": "text"
      },
      "source": [
        "# (*)Diseña un algoritmo que mejore la complejidad del algortimo por fuerza bruta. Argumenta porque crees que mejora el algoritmo por fuerza bruta"
      ]
    },
    {
      "cell_type": "markdown",
      "metadata": {
        "id": "hLrVwt5QkZPD",
        "colab_type": "text"
      },
      "source": [
        "**Respuesta**"
      ]
    },
    {
      "cell_type": "markdown",
      "metadata": {
        "id": "i4VEjdiAf8e-",
        "colab_type": "text"
      },
      "source": [
        "Un algoritmo que mejora la complejidad de la fuerza bruta y que además hemos aplicado en clase es el algoritmo de busqueda quick short."
      ]
    },
    {
      "cell_type": "code",
      "metadata": {
        "id": "m1eyM21Vkabg",
        "colab_type": "code",
        "colab": {}
      },
      "source": [
        "def quick_sort(df, col):  #Algoritmo quicksort visto en clase en la AG1 pero con la modificación de no usar un list al final\n",
        "\n",
        "    if len(df) == 1: #Cuando solo quede un valor a la izq devolveremos el valor, ya que significa que es el más grande\n",
        "        return df\n",
        "  \n",
        "    elif len(df) == 2: #Cuando queden dos valores a la izq devolveremos el máximo de ambos primero y luego el menor\n",
        "    \n",
        "        if df.iloc(axis=0)[0][col] > df.iloc(axis=0)[1][col]: #Si es mayor\n",
        "            return df\n",
        "        else:\n",
        "            return pd.DataFrame([df.iloc(axis=0)[1], df.iloc(axis=0)[0]])\n",
        "    \n",
        "    else: #Si el df contiene más de dos valores\n",
        "        izq = pd.DataFrame(columns=df.columns) #Creamos el df izq\n",
        "        der = pd.DataFrame(columns=df.columns) #Creamos el df der\n",
        "\n",
        "        pivote = (df.loc(axis =1)[col].sum())/len(df) # Calculamos el pivote haciendo la media de la columna a ordenar\n",
        "\n",
        "        for i in range(len(df)): #Recorremos la columna\n",
        "\n",
        "            if df.iloc(axis=0)[i][col] >= pivote: #Si es mayor o igual que el pivote lo mandamos a la izquierda\n",
        "                izq = izq.append(df.iloc(axis=0)[i]) #Lo añadimos a la izquierda\n",
        "        \n",
        "            else: #Si es menor que el pivote lo mandamos a la derecha\n",
        "                der = der.append(df.iloc(axis=0)[i])\n",
        "        \n",
        "\n",
        "        if len(izq)!=0 and len(der)!=0: #Mientras haya valores por ordenar a izquierda o derecha haremos una recursividad para ir ordenandolos cuantas veces sea necesario\n",
        "      \n",
        "            df_I = quick_sort(izq,col) #ordenamos los valores a la izquierda\n",
        "            df_D = quick_sort(der,col) #ordenamos los valores a la derecha\n",
        "      \n",
        "            return  df_I.append(df_D) #devolvemos el df concatenado de izquierda a derecha\n",
        "    \n",
        "        else:\n",
        "            return df\n",
        "        \n",
        "coef_ord = quick_sort(horarios,'coef') #Ordenamos los coeficientes de los horarios\n",
        "equipos_ord = quick_sort(jornada,'publico') #Ordenamos las categorías de los partidos\n",
        "\n",
        "equipos_ord.index = coef_ord.index #Igualamos los indices para concatenarlos\n",
        "\n",
        "equipos_ord[['dia','coef']] = coef_ord #Concatenamos las tablas\n",
        "equipos_ord"
      ],
      "execution_count": 0,
      "outputs": []
    },
    {
      "cell_type": "markdown",
      "metadata": {
        "id": "eGDB4K6uk1iN",
        "colab_type": "text"
      },
      "source": [
        "# (*)Calcula la complejidad del algoritmo "
      ]
    },
    {
      "cell_type": "markdown",
      "metadata": {
        "id": "NhpTh_BPk1ms",
        "colab_type": "text"
      },
      "source": [
        "**Respuesta**"
      ]
    },
    {
      "cell_type": "markdown",
      "metadata": {
        "id": "LSvEfrvlgNqX",
        "colab_type": "text"
      },
      "source": [
        "La complejidad del algoritmo quickshort es de O(n·log(n)) tal y como vimos en clase"
      ]
    },
    {
      "cell_type": "markdown",
      "metadata": {
        "id": "3M6QjTsSkmYe",
        "colab_type": "text"
      },
      "source": [
        "# Según el problema (y tenga sentido), diseña un juego de datos de entrada aleatorios"
      ]
    },
    {
      "cell_type": "markdown",
      "metadata": {
        "id": "Jc3_OlyNkvjZ",
        "colab_type": "text"
      },
      "source": [
        "**Respuesta**"
      ]
    },
    {
      "cell_type": "code",
      "metadata": {
        "id": "sJ-N2etjkyWc",
        "colab_type": "code",
        "colab": {
          "base_uri": "https://localhost:8080/",
          "height": 343
        },
        "outputId": "050b51b0-94f1-40ab-95ac-4a593353b219"
      },
      "source": [
        "#Tal como hemos hecho anteriormente\n",
        "jornada_aleatoria = aleatorio(equipos)\n",
        "jornada = enfrentamientos(jornada_aleatoria)\n",
        "jornada"
      ],
      "execution_count": 10,
      "outputs": [
        {
          "output_type": "execute_result",
          "data": {
            "text/html": [
              "<div>\n",
              "<style scoped>\n",
              "    .dataframe tbody tr th:only-of-type {\n",
              "        vertical-align: middle;\n",
              "    }\n",
              "\n",
              "    .dataframe tbody tr th {\n",
              "        vertical-align: top;\n",
              "    }\n",
              "\n",
              "    .dataframe thead th {\n",
              "        text-align: right;\n",
              "    }\n",
              "</style>\n",
              "<table border=\"1\" class=\"dataframe\">\n",
              "  <thead>\n",
              "    <tr style=\"text-align: right;\">\n",
              "      <th></th>\n",
              "      <th>categoria</th>\n",
              "      <th>publico</th>\n",
              "      <th>equipos</th>\n",
              "    </tr>\n",
              "  </thead>\n",
              "  <tbody>\n",
              "    <tr>\n",
              "      <th>0</th>\n",
              "      <td>BB</td>\n",
              "      <td>900000.0</td>\n",
              "      <td>Villareal vs Levante</td>\n",
              "    </tr>\n",
              "    <tr>\n",
              "      <th>1</th>\n",
              "      <td>CC</td>\n",
              "      <td>470000.0</td>\n",
              "      <td>Granada vs Valladolid</td>\n",
              "    </tr>\n",
              "    <tr>\n",
              "      <th>2</th>\n",
              "      <td>BB</td>\n",
              "      <td>900000.0</td>\n",
              "      <td>Alaves vs Celta</td>\n",
              "    </tr>\n",
              "    <tr>\n",
              "      <th>3</th>\n",
              "      <td>BC</td>\n",
              "      <td>750000.0</td>\n",
              "      <td>Atlético  vs  Leganés</td>\n",
              "    </tr>\n",
              "    <tr>\n",
              "      <th>4</th>\n",
              "      <td>BB</td>\n",
              "      <td>900000.0</td>\n",
              "      <td>Espanyol vs Sevilla</td>\n",
              "    </tr>\n",
              "    <tr>\n",
              "      <th>5</th>\n",
              "      <td>AB</td>\n",
              "      <td>1300000.0</td>\n",
              "      <td>Barcelona vs Athletic</td>\n",
              "    </tr>\n",
              "    <tr>\n",
              "      <th>6</th>\n",
              "      <td>AB</td>\n",
              "      <td>1300000.0</td>\n",
              "      <td>Real Madrid vs Valencia</td>\n",
              "    </tr>\n",
              "    <tr>\n",
              "      <th>7</th>\n",
              "      <td>AB</td>\n",
              "      <td>1300000.0</td>\n",
              "      <td>R.Sociedad vs Betis</td>\n",
              "    </tr>\n",
              "    <tr>\n",
              "      <th>8</th>\n",
              "      <td>BC</td>\n",
              "      <td>750000.0</td>\n",
              "      <td>Getafe  vs  Osasuna</td>\n",
              "    </tr>\n",
              "    <tr>\n",
              "      <th>9</th>\n",
              "      <td>CC</td>\n",
              "      <td>470000.0</td>\n",
              "      <td>Mallorca vs Eibar</td>\n",
              "    </tr>\n",
              "  </tbody>\n",
              "</table>\n",
              "</div>"
            ],
            "text/plain": [
              "  categoria    publico                  equipos\n",
              "0        BB   900000.0     Villareal vs Levante\n",
              "1        CC   470000.0    Granada vs Valladolid\n",
              "2        BB   900000.0          Alaves vs Celta\n",
              "3        BC   750000.0    Atlético  vs  Leganés\n",
              "4        BB   900000.0      Espanyol vs Sevilla\n",
              "5        AB  1300000.0    Barcelona vs Athletic\n",
              "6        AB  1300000.0  Real Madrid vs Valencia\n",
              "7        AB  1300000.0      R.Sociedad vs Betis\n",
              "8        BC   750000.0      Getafe  vs  Osasuna\n",
              "9        CC   470000.0        Mallorca vs Eibar"
            ]
          },
          "metadata": {
            "tags": []
          },
          "execution_count": 10
        }
      ]
    },
    {
      "cell_type": "markdown",
      "metadata": {
        "id": "zy5ZROmjlGo1",
        "colab_type": "text"
      },
      "source": [
        "# Aplica el algoritmo al juego de datos generado"
      ]
    },
    {
      "cell_type": "markdown",
      "metadata": {
        "id": "_Cmj-PVylMsa",
        "colab_type": "text"
      },
      "source": [
        "**Respuesta**"
      ]
    },
    {
      "cell_type": "markdown",
      "metadata": {
        "id": "IV87ZK2TgYkp",
        "colab_type": "text"
      },
      "source": [
        "Ya se ha resuelto tanto en el algoritmo de fuerza bruta como en el de quick short"
      ]
    },
    {
      "cell_type": "markdown",
      "metadata": {
        "colab_type": "text",
        "id": "eTFWUJQrtGcv"
      },
      "source": [
        "# Enumera las referencias que has utilizado(si ha sido necesario) para llevar a cabo el trabajo"
      ]
    },
    {
      "cell_type": "markdown",
      "metadata": {
        "colab_type": "text",
        "id": "V01Kd1Pkgn-Q"
      },
      "source": [
        "**Respuesta**"
      ]
    },
    {
      "cell_type": "markdown",
      "metadata": {
        "id": "a1DxUH7FgopY",
        "colab_type": "text"
      },
      "source": [
        "Las únicas referencias utilizadas han sido los apuntes de la asignatura de python para numpy y manipular los dataframes y los apuntes de esta asignatura de algoritmos de optimización para realizar el algoritmo por fuerza bruta y quick short"
      ]
    },
    {
      "cell_type": "markdown",
      "metadata": {
        "id": "kAkDPUyRtYyH",
        "colab_type": "text"
      },
      "source": [
        "# Describe brevemente las lineas de como crees que es posible avanzar en el estudio del problema. Ten en cuenta incluso posibles variaciones del problema y/o variaciones al alza del tamaño"
      ]
    },
    {
      "cell_type": "markdown",
      "metadata": {
        "id": "IE0uZmo-tZu-",
        "colab_type": "text"
      },
      "source": [
        "**Respuesta**"
      ]
    },
    {
      "cell_type": "markdown",
      "metadata": {
        "id": "ZpJKjAdOgpQi",
        "colab_type": "text"
      },
      "source": [
        "Una buena mejora sería hacer un algoritmo de ramificación y poda para eliminar opciones, como por ejemplo los equipos con categoría C, en principio no deberían jugar en horarios con alto público. Lo mismo para equipos con categoría A y horarios con poco público."
      ]
    }
  ]
}