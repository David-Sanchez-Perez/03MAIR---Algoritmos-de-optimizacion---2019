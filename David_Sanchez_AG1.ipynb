{
  "nbformat": 4,
  "nbformat_minor": 0,
  "metadata": {
    "colab": {
      "name": "David Sanchez - AG1.ipynb",
      "version": "0.3.2",
      "provenance": []
    },
    "kernelspec": {
      "name": "python3",
      "display_name": "Python 3"
    }
  },
  "cells": [
    {
      "cell_type": "code",
      "metadata": {
        "id": "_qnXu4Bq_rfa",
        "colab_type": "code",
        "colab": {}
      },
      "source": [
        ""
      ],
      "execution_count": 0,
      "outputs": []
    },
    {
      "cell_type": "markdown",
      "metadata": {
        "id": "JP0sSMEQrtMM",
        "colab_type": "text"
      },
      "source": [
        "Actividad Guiada 1 - AG1\n",
        "David Sánchez Pérez\n",
        "\n",
        "https://colab.research.google.com/drive/1Aji15tZBDLA0cjujt6g8jTScjO-UgpAM\n",
        "\n",
        "https://github.com/David-Sanchez-Perez"
      ]
    },
    {
      "cell_type": "code",
      "metadata": {
        "id": "p7_QjdJYtEEE",
        "colab_type": "code",
        "colab": {}
      },
      "source": [
        "from functools import wraps\n",
        "from time import time\n",
        "\n",
        "def calcular_tiempo(f):\n",
        "    @wraps(f)\n",
        "    def cronometro(*args, **kwargs):\n",
        "        t_inicial = time()\n",
        "        salida = f(*args, **kwargs)\n",
        "        t_final = time()\n",
        "        print('Tiempo transcurrido (en segundos): {}'.format(t_final - t_inicial))\n",
        "        return salida\n",
        "    return cronometro\n",
        "  \n",
        "import random"
      ],
      "execution_count": 0,
      "outputs": []
    },
    {
      "cell_type": "code",
      "metadata": {
        "id": "mvieCjyJjUkd",
        "colab_type": "code",
        "colab": {
          "base_uri": "https://localhost:8080/",
          "height": 70
        },
        "outputId": "cea8d24b-1359-47c4-a668-b8fd0c8579ad"
      },
      "source": [
        "#Algoritmo divide y venceras quick sort\n",
        "\n",
        "A = [9187, 244, 4054, 9222, 8373, 4993, 5265, 5470, 4519, 7182, 2035, 3506, 4337, 7580, 2554, 2824, 8357, 4447, 7379]\n",
        "\n",
        "A= list(map(lambda x: random.randrange(1,10000), range(1,600)))\n",
        "def quick_sort(A):\n",
        "  if len(A)<=1:\n",
        "    return A\n",
        "  if len(A)==2:\n",
        "    return min(A),max(A)\n",
        "  \n",
        "  pivote = (A[0] + A[1] + A[2])/3\n",
        "  \n",
        "  IZQ=[]\n",
        "  DER=[]\n",
        "  for n in A:\n",
        "    if n<pivote:\n",
        "      IZQ.append(n)\n",
        "      \n",
        "    else:\n",
        "      DER.append(n)\n",
        "  return list(quick_sort(IZQ))+list(quick_sort(DER))\n",
        "     \n",
        "print (quick_sort(A))\n",
        "\n",
        "@calcular_tiempo\n",
        "def ordenar(A):\n",
        "  quick_sort(A)\n",
        "  \n",
        "ordenar(A)"
      ],
      "execution_count": 14,
      "outputs": [
        {
          "output_type": "stream",
          "text": [
            "[18, 25, 28, 42, 51, 65, 86, 87, 91, 129, 150, 155, 162, 174, 185, 237, 248, 268, 269, 287, 316, 342, 387, 395, 400, 401, 404, 410, 442, 456, 459, 478, 509, 562, 570, 575, 590, 607, 618, 630, 664, 708, 728, 741, 802, 818, 828, 849, 853, 858, 889, 901, 903, 929, 936, 947, 952, 953, 974, 1030, 1060, 1064, 1076, 1094, 1105, 1147, 1152, 1268, 1273, 1274, 1297, 1302, 1313, 1317, 1346, 1416, 1459, 1467, 1488, 1500, 1502, 1552, 1553, 1567, 1568, 1575, 1593, 1613, 1628, 1647, 1661, 1670, 1676, 1718, 1737, 1776, 1780, 1791, 1799, 1817, 1853, 1857, 1896, 1908, 1917, 1935, 1938, 1971, 2000, 2004, 2046, 2057, 2058, 2087, 2087, 2112, 2119, 2121, 2127, 2174, 2178, 2178, 2198, 2263, 2267, 2281, 2302, 2303, 2386, 2425, 2447, 2448, 2453, 2472, 2490, 2491, 2506, 2511, 2515, 2535, 2547, 2574, 2595, 2603, 2770, 2783, 2796, 2807, 2823, 2835, 2866, 2877, 2906, 2945, 2968, 3013, 3023, 3045, 3045, 3053, 3058, 3068, 3094, 3120, 3134, 3162, 3189, 3202, 3220, 3248, 3261, 3283, 3304, 3312, 3315, 3347, 3361, 3390, 3404, 3406, 3431, 3460, 3465, 3468, 3493, 3504, 3504, 3509, 3511, 3516, 3540, 3548, 3550, 3563, 3565, 3566, 3579, 3597, 3614, 3626, 3629, 3683, 3703, 3725, 3740, 3741, 3747, 3749, 3759, 3777, 3825, 3829, 3832, 3835, 3836, 3839, 3843, 3856, 3857, 3890, 3893, 3895, 3938, 3954, 3986, 3990, 3997, 4001, 4021, 4038, 4042, 4067, 4074, 4107, 4117, 4125, 4140, 4176, 4219, 4233, 4233, 4259, 4289, 4302, 4312, 4319, 4338, 4459, 4467, 4470, 4477, 4515, 4515, 4527, 4544, 4553, 4576, 4580, 4601, 4606, 4610, 4611, 4612, 4632, 4636, 4637, 4652, 4664, 4675, 4678, 4688, 4703, 4705, 4716, 4726, 4734, 4815, 4889, 4899, 4917, 4924, 4945, 4983, 4989, 5064, 5071, 5086, 5123, 5139, 5144, 5148, 5180, 5180, 5184, 5243, 5285, 5297, 5307, 5313, 5371, 5379, 5394, 5419, 5429, 5431, 5439, 5483, 5540, 5560, 5574, 5601, 5604, 5607, 5654, 5718, 5763, 5766, 5769, 5770, 5806, 5816, 5824, 5843, 5859, 5863, 5869, 5904, 5961, 5971, 5998, 6002, 6009, 6014, 6018, 6026, 6027, 6036, 6042, 6051, 6088, 6108, 6109, 6112, 6113, 6124, 6135, 6136, 6144, 6159, 6199, 6230, 6231, 6253, 6255, 6292, 6301, 6317, 6318, 6334, 6341, 6360, 6385, 6387, 6394, 6397, 6399, 6412, 6447, 6529, 6533, 6569, 6576, 6591, 6599, 6664, 6668, 6673, 6721, 6747, 6757, 6767, 6803, 6835, 6856, 6860, 6862, 6862, 6865, 6870, 6875, 6992, 6997, 7015, 7040, 7042, 7061, 7101, 7104, 7106, 7160, 7167, 7191, 7203, 7218, 7231, 7244, 7253, 7259, 7266, 7288, 7305, 7316, 7327, 7331, 7357, 7374, 7375, 7380, 7445, 7448, 7454, 7469, 7474, 7484, 7496, 7504, 7511, 7536, 7539, 7546, 7554, 7555, 7585, 7591, 7601, 7667, 7695, 7711, 7733, 7735, 7737, 7741, 7742, 7746, 7755, 7788, 7796, 7824, 7866, 7868, 7869, 7872, 7879, 7902, 7919, 7922, 7942, 7970, 7977, 8002, 8006, 8015, 8023, 8028, 8034, 8043, 8063, 8075, 8083, 8094, 8103, 8108, 8128, 8131, 8133, 8145, 8154, 8160, 8237, 8246, 8252, 8298, 8351, 8364, 8385, 8399, 8401, 8410, 8427, 8428, 8428, 8455, 8508, 8517, 8523, 8532, 8541, 8546, 8569, 8593, 8605, 8663, 8671, 8675, 8677, 8680, 8685, 8688, 8696, 8706, 8710, 8724, 8748, 8781, 8788, 8808, 8821, 8827, 8832, 8841, 8844, 8848, 8861, 8865, 8866, 8928, 8960, 8982, 8992, 9023, 9044, 9057, 9057, 9074, 9081, 9107, 9111, 9122, 9131, 9144, 9148, 9199, 9215, 9220, 9235, 9255, 9256, 9257, 9288, 9331, 9346, 9358, 9361, 9392, 9393, 9399, 9400, 9422, 9434, 9437, 9464, 9464, 9514, 9519, 9535, 9545, 9554, 9568, 9591, 9597, 9605, 9623, 9629, 9654, 9664, 9691, 9700, 9705, 9710, 9737, 9746, 9759, 9776, 9781, 9793, 9805, 9817, 9819, 9823, 9838, 9858, 9861, 9875, 9878, 9880, 9890, 9910, 9934, 9974]\n",
            "Tiempo transcurrido (en segundos): 0.0017366409301757812\n"
          ],
          "name": "stdout"
        }
      ]
    },
    {
      "cell_type": "code",
      "metadata": {
        "id": "W0aSvkSMoJ4T",
        "colab_type": "code",
        "colab": {
          "base_uri": "https://localhost:8080/",
          "height": 50
        },
        "outputId": "047530c1-51a9-49d9-e0fe-70aaff6d8832"
      },
      "source": [
        "#Algoritmo de voraz para la devolución del cambio\n",
        "SISTEMA= [25, 10, 5, 1]\n",
        "\n",
        "@calcular_tiempo\n",
        "def cambio_monedas(CANTIDAD, SISTEMA):\n",
        "  SOLUCION=[0 for i in range (len(SISTEMA))]\n",
        "  \n",
        "  VALOR_ACUMULADO=0\n",
        "  \n",
        "  for i in range (len(SISTEMA)):\n",
        "    monedas = int((CANTIDAD - VALOR_ACUMULADO)/SISTEMA[i])\n",
        "    SOLUCION[i]=monedas\n",
        "    VALOR_ACUMULADO = VALOR_ACUMULADO + monedas*SISTEMA[i]\n",
        "    \n",
        "    if VALOR_ACUMULADO == CANTIDAD:\n",
        "      return SOLUCION\n",
        "  \n",
        "print(cambio_monedas(123,SISTEMA))"
      ],
      "execution_count": 18,
      "outputs": [
        {
          "output_type": "stream",
          "text": [
            "Tiempo transcurrido (en segundos): 8.58306884765625e-06\n",
            "[4, 2, 0, 3]\n"
          ],
          "name": "stdout"
        }
      ]
    },
    {
      "cell_type": "code",
      "metadata": {
        "id": "9RhuG3F5s0Yz",
        "colab_type": "code",
        "colab": {
          "base_uri": "https://localhost:8080/",
          "height": 84
        },
        "outputId": "80a493ee-5e30-4095-dc2e-8e3d01c99249"
      },
      "source": [
        "#Algoritmo con vuelta atras para el problema de las N-Reinas\n",
        "\n",
        "def es_prometedora(SOLUCION,etapa):\n",
        "  for i in range (etapa+1):\n",
        "    if SOLUCION.count(SOLUCION[i])>1:\n",
        "      return False\n",
        "    \n",
        "    for j in range (i+1,etapa+1):\n",
        "      if abs(i-j)==abs(SOLUCION[i]-SOLUCION[j]):\n",
        "        return False\n",
        "      \n",
        "  return True\n",
        "\n",
        "def reinas(N,solucion=[],etapa=0): #Tamaño del tablero\n",
        "  \n",
        "  if len(solucion)==0:\n",
        "    solucion=[0 for i in range (N)]\n",
        "    \n",
        "  for i in range (1,N+1):\n",
        "    solucion[etapa]=i\n",
        "  \n",
        "  #print(solucion)\n",
        "    if es_prometedora (solucion,etapa):\n",
        "      if etapa == N-1:\n",
        "        print (\"La solucion es\",solucion)\n",
        "\n",
        "      else:\n",
        "        reinas(N,solucion,etapa+1)\n",
        "    \n",
        "    else:\n",
        "      None\n",
        "      \n",
        "reinas(8)"
      ],
      "execution_count": 26,
      "outputs": [
        {
          "output_type": "stream",
          "text": [
            "La solucion es [4, 7, 5, 2, 6, 1, 3, 8]\n",
            "La solucion es [5, 7, 2, 6, 3, 1, 4, 8]\n",
            "La solucion es [6, 3, 5, 7, 1, 4, 2, 8]\n",
            "La solucion es [6, 4, 7, 1, 3, 5, 2, 8]\n"
          ],
          "name": "stdout"
        }
      ]
    },
    {
      "cell_type": "code",
      "metadata": {
        "id": "LZ0i6MZf71Ls",
        "colab_type": "code",
        "colab": {}
      },
      "source": [
        ""
      ],
      "execution_count": 0,
      "outputs": []
    }
  ]
}